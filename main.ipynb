{
 "cells": [
  {
   "cell_type": "code",
   "execution_count": 1,
   "id": "3c6d6bf5",
   "metadata": {},
   "outputs": [],
   "source": [
    "import pandas as pd\n",
    "import datetime\n",
    "import pytz\n",
    "import numpy as np\n",
    "charging_session_data=pd.read_pickle('data/charging_session_data_sample.pkl')\n",
    "start_date=datetime.datetime(2022,1,1,tzinfo=pytz.timezone('CET'))\n",
    "end_date=datetime.datetime(2023,1,1,tzinfo=pytz.timezone('CET'))\n",
    "timesteplist=pd.date_range(start=start_date,end=end_date+datetime.timedelta(days=2),freq='15Min',tz='CET')\n",
    "day_ahead_prices=pd.read_pickle('data/day_ahead_market_prices_NL.pkl')"
   ]
  },
  {
   "cell_type": "code",
   "execution_count": 2,
   "id": "c2ff0d2e",
   "metadata": {},
   "outputs": [
    {
     "name": "stdout",
     "output_type": "stream",
     "text": [
      "Uncontrolled charging profiles for all charging stations modelled\n"
     ]
    }
   ],
   "source": [
    "from helperfunctions.uncontrolled_charging_model import uncontrolled_charging\n",
    "\n",
    "uncontrolled_charging_total=uncontrolled_charging(charging_session_data,timesteplist)\n",
    "print('Uncontrolled charging profiles for all charging stations modelled')"
   ]
  },
  {
   "cell_type": "code",
   "execution_count": 3,
   "id": "f9eff474",
   "metadata": {},
   "outputs": [
    {
     "name": "stdout",
     "output_type": "stream",
     "text": [
      "Set parameter Username\n",
      "Set parameter LicenseID to value 2656772\n",
      "Academic license - for non-commercial use only - expires 2026-04-25\n",
      "Optimal dynamic retail price charging profile for Charging station 1 modelled\n",
      "Optimal dynamic retail price charging profile for Charging station 2 modelled\n"
     ]
    }
   ],
   "source": [
    "from helperfunctions.volumetric_ToU_model import volumetric_ToU\n",
    "\n",
    "grid_tariff_df=pd.DataFrame(0,index=timesteplist,columns=['Grid tariff (€/kWh)'])\n",
    "DA_charging_total=pd.DataFrame(0,index=timesteplist,columns=charging_session_data['Charging station ID'].unique())\n",
    "for CS in charging_session_data['Charging station ID'].unique():\n",
    "    charging_session_data_CS=charging_session_data[charging_session_data['Charging station ID']==CS]\n",
    "    DA_charging_total[CS]=volumetric_ToU(charging_session_data_CS,timesteplist,CS,grid_tariff_df,day_ahead_prices,True)\n",
    "    print('Optimal dynamic retail price charging profile for '+CS+' modelled')"
   ]
  },
  {
   "cell_type": "code",
   "execution_count": 4,
   "id": "76b4abe0",
   "metadata": {},
   "outputs": [
    {
     "name": "stdout",
     "output_type": "stream",
     "text": [
      "Volumetric ToU profiles modelled for low tariff value of 0.01 €/kWh and for dynamic retail prices\n",
      "Volumetric ToU profiles modelled for low tariff value of 0.01 €/kWh and for fixed retail prices\n",
      "Volumetric ToU profiles modelled for low tariff value of 0.02 €/kWh and for dynamic retail prices\n",
      "Volumetric ToU profiles modelled for low tariff value of 0.02 €/kWh and for fixed retail prices\n",
      "Volumetric ToU profiles modelled for low tariff value of 0.03 €/kWh and for dynamic retail prices\n",
      "Volumetric ToU profiles modelled for low tariff value of 0.03 €/kWh and for fixed retail prices\n"
     ]
    }
   ],
   "source": [
    "for low_tariff_value in [0.01,0.02,0.03]:\n",
    "    medium_tariff_value=low_tariff_value*2\n",
    "    high_tariff_value=low_tariff_value*3\n",
    "\n",
    "    grid_tariff_df=pd.DataFrame(0,index=timesteplist,columns=['Grid tariff (€/kWh)'])\n",
    "    high_tariff_hours=[18,19,20,21]\n",
    "    medium_tariff_hours=[22,23,0,16,17]\n",
    "    low_tariff_hours=list(range(1,16))\n",
    "    grid_tariff_df['Grid tariff (€/kWh)']=np.where(grid_tariff_df.index.hour.isin(high_tariff_hours),high_tariff_value,grid_tariff_df['Grid tariff (€/kWh)'])\n",
    "    grid_tariff_df['Grid tariff (€/kWh)']=np.where(grid_tariff_df.index.hour.isin(medium_tariff_hours),medium_tariff_value,grid_tariff_df['Grid tariff (€/kWh)'])\n",
    "    grid_tariff_df['Grid tariff (€/kWh)']=np.where(grid_tariff_df.index.hour.isin(low_tariff_hours),low_tariff_value,grid_tariff_df['Grid tariff (€/kWh)'])\n",
    "    for dynamic_retail_prices_considered in [True, False]:\n",
    "        volumetric_ToU_total=pd.DataFrame(0,index=timesteplist,columns=charging_session_data['Charging station ID'].unique())\n",
    "        for CS in charging_session_data['Charging station ID'].unique():\n",
    "            charging_session_data_CS=charging_session_data[charging_session_data['Charging station ID']==CS]\n",
    "            volumetric_ToU_total[CS]=volumetric_ToU(charging_session_data_CS,timesteplist,CS,grid_tariff_df,day_ahead_prices,dynamic_retail_prices_considered)\n",
    "        if dynamic_retail_prices_considered==True:\n",
    "            print('Volumetric ToU profiles modelled for low tariff value of '+str(low_tariff_value)+' €/kWh and for dynamic retail prices')\n",
    "        else:\n",
    "            print('Volumetric ToU profiles modelled for low tariff value of '+str(low_tariff_value)+' €/kWh and for fixed retail prices')"
   ]
  },
  {
   "cell_type": "code",
   "execution_count": 5,
   "id": "453e1817",
   "metadata": {},
   "outputs": [
    {
     "name": "stdout",
     "output_type": "stream",
     "text": [
      "Segmented volumetric ToU profiles modelled for low tariff value of 0.01 €/kWh and for dynamic retail prices\n",
      "Segmented volumetric ToU profiles modelled for low tariff value of 0.01 €/kWh and for fixed retail prices\n",
      "Segmented volumetric ToU profiles modelled for low tariff value of 0.02 €/kWh and for dynamic retail prices\n",
      "Segmented volumetric ToU profiles modelled for low tariff value of 0.02 €/kWh and for fixed retail prices\n",
      "Segmented volumetric ToU profiles modelled for low tariff value of 0.03 €/kWh and for dynamic retail prices\n",
      "Segmented volumetric ToU profiles modelled for low tariff value of 0.03 €/kWh and for fixed retail prices\n"
     ]
    }
   ],
   "source": [
    "from helperfunctions.segmented_volumetric_ToU_model import segmented_volumetric_ToU\n",
    "\n",
    "\n",
    "for low_tariff_value in [0.01,0.02,0.03]:\n",
    "    medium_tariff_value=low_tariff_value*2\n",
    "    high_tariff_value=low_tariff_value*3\n",
    "\n",
    "    grid_tariff_df=pd.DataFrame(0,index=timesteplist,columns=['Grid tariff (€/kWh)'])\n",
    "    high_tariff_hours=[18,19,20,21]\n",
    "    medium_tariff_hours=[22,23,0,16,17]\n",
    "    low_tariff_hours=list(range(1,16))\n",
    "    tariff_threshold_df=pd.DataFrame(index=timesteplist,columns=['Threshold_1','Threshold_2'])\n",
    "    tariff_threshold_df['Threshold_1']=np.where(tariff_threshold_df.index.hour.isin(low_tariff_hours),4,0)\n",
    "    tariff_threshold_df['Threshold_2']=np.where(tariff_threshold_df.index.hour.isin(high_tariff_hours),0,4)  \n",
    "    for dynamic_retail_prices_considered in [True, False]:\n",
    "        segmented_volumetric_ToU_total=pd.DataFrame(0,index=timesteplist,columns=charging_session_data['Charging station ID'].unique())\n",
    "        for CS in charging_session_data['Charging station ID'].unique():\n",
    "            charging_session_data_CS=charging_session_data[charging_session_data['Charging station ID']==CS]\n",
    "            segmented_volumetric_ToU_total[CS]=segmented_volumetric_ToU(charging_session_data_CS,timesteplist,CS,tariff_threshold_df,day_ahead_prices,dynamic_retail_prices_considered,low_tariff_value,medium_tariff_value,high_tariff_value)\n",
    "        if dynamic_retail_prices_considered==True:\n",
    "            print('Segmented volumetric ToU profiles modelled for low tariff value of '+str(low_tariff_value)+' €/kWh and for dynamic retail prices')\n",
    "        else:\n",
    "            print('Segmented volumetric ToU profiles modelled for low tariff value of '+str(low_tariff_value)+' €/kWh and for fixed retail prices')"
   ]
  }
 ],
 "metadata": {
  "kernelspec": {
   "display_name": "base",
   "language": "python",
   "name": "python3"
  },
  "language_info": {
   "codemirror_mode": {
    "name": "ipython",
    "version": 3
   },
   "file_extension": ".py",
   "mimetype": "text/x-python",
   "name": "python",
   "nbconvert_exporter": "python",
   "pygments_lexer": "ipython3",
   "version": "3.12.7"
  }
 },
 "nbformat": 4,
 "nbformat_minor": 5
}
