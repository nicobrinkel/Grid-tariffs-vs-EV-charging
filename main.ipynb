{
 "cells": [
  {
   "cell_type": "code",
   "execution_count": 6,
   "id": "3c6d6bf5",
   "metadata": {},
   "outputs": [],
   "source": [
    "import pandas as pd\n",
    "import datetime\n",
    "import pytz\n",
    "import numpy as np\n",
    "charging_session_data=pd.read_pickle('data/charging_session_data_sample.pkl')\n",
    "start_date=datetime.datetime(2022,1,1,tzinfo=pytz.timezone('CET'))\n",
    "end_date=datetime.datetime(2023,1,1,tzinfo=pytz.timezone('CET'))\n",
    "timesteplist=pd.date_range(start=start_date,end=end_date+datetime.timedelta(days=2),freq='15Min',tz='CET')\n",
    "day_ahead_prices=pd.read_pickle('data/day_ahead_market_prices_NL.pkl')"
   ]
  },
  {
   "cell_type": "code",
   "execution_count": null,
   "id": "c2ff0d2e",
   "metadata": {},
   "outputs": [
    {
     "name": "stdout",
     "output_type": "stream",
     "text": [
      "Uncontrolled charging profiles for all charging stations modelled\n"
     ]
    }
   ],
   "source": [
    "from helperfunctions.uncontrolled_charging_model import uncontrolled_charging\n",
    "\n",
    "uncontrolled_charging_total=uncontrolled_charging(charging_session_data,timesteplist)\n",
    "print('Uncontrolled charging profiles for all charging stations modelled')"
   ]
  },
  {
   "cell_type": "code",
   "execution_count": null,
   "id": "f9eff474",
   "metadata": {},
   "outputs": [
    {
     "name": "stdout",
     "output_type": "stream",
     "text": [
      "Set parameter Username\n",
      "Set parameter LicenseID to value 2656772\n",
      "Academic license - for non-commercial use only - expires 2026-04-25\n",
      "Optimal dynamic retail price charging profile for Charging station 1 modelled\n",
      "Optimal dynamic retail price charging profile for Charging station 2 modelled\n"
     ]
    }
   ],
   "source": [
    "from helperfunctions.volumetric_ToU_model import volumetric_ToU\n",
    "\n",
    "grid_tariff_df=pd.DataFrame(0,index=timesteplist,columns=['Grid tariff (€/kWh)'])\n",
    "DA_charging_total=pd.DataFrame(0,index=timesteplist,columns=charging_session_data['Charging station ID'].unique())\n",
    "for CS in charging_session_data['Charging station ID'].unique():\n",
    "    charging_session_data_CS=charging_session_data[charging_session_data['Charging station ID']==CS]\n",
    "    DA_charging_total[CS]=volumetric_ToU(charging_session_data_CS,timesteplist,CS,grid_tariff_df,day_ahead_prices,True)\n",
    "    print('Optimal dynamic retail price charging profile for '+CS+' modelled')"
   ]
  },
  {
   "cell_type": "code",
   "execution_count": null,
   "id": "76b4abe0",
   "metadata": {},
   "outputs": [
    {
     "name": "stdout",
     "output_type": "stream",
     "text": [
      "Volumetric ToU profiles modelled for low tariff value of 0.01 €/kWh and for dynamic retail prices\n",
      "Volumetric ToU profiles modelled for low tariff value of 0.01 €/kWh and for fixed retail prices\n",
      "Volumetric ToU profiles modelled for low tariff value of 0.02 €/kWh and for dynamic retail prices\n",
      "Volumetric ToU profiles modelled for low tariff value of 0.02 €/kWh and for fixed retail prices\n",
      "Volumetric ToU profiles modelled for low tariff value of 0.03 €/kWh and for dynamic retail prices\n",
      "Volumetric ToU profiles modelled for low tariff value of 0.03 €/kWh and for fixed retail prices\n"
     ]
    }
   ],
   "source": [
    "for low_tariff_value in [0.01,0.02,0.03]:\n",
    "    medium_tariff_value=low_tariff_value*2\n",
    "    high_tariff_value=low_tariff_value*3\n",
    "\n",
    "    grid_tariff_df=pd.DataFrame(0,index=timesteplist,columns=['Grid tariff (€/kWh)'])\n",
    "    high_tariff_hours=[18,19,20,21]\n",
    "    medium_tariff_hours=[22,23,0,16,17]\n",
    "    low_tariff_hours=list(range(1,16))\n",
    "    grid_tariff_df['Grid tariff (€/kWh)']=np.where(grid_tariff_df.index.hour.isin(high_tariff_hours),high_tariff_value,grid_tariff_df['Grid tariff (€/kWh)'])\n",
    "    grid_tariff_df['Grid tariff (€/kWh)']=np.where(grid_tariff_df.index.hour.isin(medium_tariff_hours),medium_tariff_value,grid_tariff_df['Grid tariff (€/kWh)'])\n",
    "    grid_tariff_df['Grid tariff (€/kWh)']=np.where(grid_tariff_df.index.hour.isin(low_tariff_hours),low_tariff_value,grid_tariff_df['Grid tariff (€/kWh)'])\n",
    "    for dynamic_retail_prices_considered in [True, False]:\n",
    "        volumetric_ToU_total=pd.DataFrame(0,index=timesteplist,columns=charging_session_data['Charging station ID'].unique())\n",
    "        for CS in charging_session_data['Charging station ID'].unique():\n",
    "            charging_session_data_CS=charging_session_data[charging_session_data['Charging station ID']==CS]\n",
    "            volumetric_ToU_total[CS]=volumetric_ToU(charging_session_data_CS,timesteplist,CS,grid_tariff_df,day_ahead_prices,dynamic_retail_prices_considered)\n",
    "        if dynamic_retail_prices_considered==True:\n",
    "            print('Volumetric ToU profiles modelled for low tariff value of '+str(low_tariff_value)+' €/kWh and for dynamic retail prices')\n",
    "        else:\n",
    "            print('Volumetric ToU profiles modelled for low tariff value of '+str(low_tariff_value)+' €/kWh and for fixed retail prices')"
   ]
  },
  {
   "cell_type": "code",
   "execution_count": null,
   "id": "453e1817",
   "metadata": {},
   "outputs": [
    {
     "name": "stdout",
     "output_type": "stream",
     "text": [
      "Segmented volumetric ToU profiles modelled for low tariff value of 0.01 €/kWh and for dynamic retail prices\n",
      "Segmented volumetric ToU profiles modelled for low tariff value of 0.01 €/kWh and for fixed retail prices\n",
      "Segmented volumetric ToU profiles modelled for low tariff value of 0.02 €/kWh and for dynamic retail prices\n",
      "Segmented volumetric ToU profiles modelled for low tariff value of 0.02 €/kWh and for fixed retail prices\n",
      "Segmented volumetric ToU profiles modelled for low tariff value of 0.03 €/kWh and for dynamic retail prices\n",
      "Segmented volumetric ToU profiles modelled for low tariff value of 0.03 €/kWh and for fixed retail prices\n"
     ]
    }
   ],
   "source": [
    "from helperfunctions.segmented_volumetric_ToU_model import segmented_volumetric_ToU\n",
    "\n",
    "\n",
    "for low_tariff_value in [0.01,0.02,0.03]:\n",
    "    medium_tariff_value=low_tariff_value*2\n",
    "    high_tariff_value=low_tariff_value*3\n",
    "\n",
    "    grid_tariff_df=pd.DataFrame(0,index=timesteplist,columns=['Grid tariff (€/kWh)'])\n",
    "    high_tariff_hours=[18,19,20,21]\n",
    "    medium_tariff_hours=[22,23,0,16,17]\n",
    "    low_tariff_hours=list(range(1,16))\n",
    "    tariff_threshold_df=pd.DataFrame(index=timesteplist,columns=['Threshold_1','Threshold_2'])\n",
    "    tariff_threshold_df['Threshold_1']=np.where(tariff_threshold_df.index.hour.isin(low_tariff_hours),4,0)\n",
    "    tariff_threshold_df['Threshold_2']=np.where(tariff_threshold_df.index.hour.isin(high_tariff_hours),0,4)  \n",
    "    for dynamic_retail_prices_considered in [True, False]:\n",
    "        segmented_volumetric_ToU_total=pd.DataFrame(0,index=timesteplist,columns=charging_session_data['Charging station ID'].unique())\n",
    "        for CS in charging_session_data['Charging station ID'].unique():\n",
    "            charging_session_data_CS=charging_session_data[charging_session_data['Charging station ID']==CS]\n",
    "            segmented_volumetric_ToU_total[CS]=segmented_volumetric_ToU(charging_session_data_CS,timesteplist,CS,tariff_threshold_df,day_ahead_prices,dynamic_retail_prices_considered,low_tariff_value,medium_tariff_value,high_tariff_value)\n",
    "        if dynamic_retail_prices_considered==True:\n",
    "            print('Segmented volumetric ToU profiles modelled for low tariff value of '+str(low_tariff_value)+' €/kWh and for dynamic retail prices')\n",
    "        else:\n",
    "            print('Segmented volumetric ToU profiles modelled for low tariff value of '+str(low_tariff_value)+' €/kWh and for fixed retail prices')"
   ]
  },
  {
   "cell_type": "code",
   "execution_count": null,
   "id": "0cdc89e4",
   "metadata": {},
   "outputs": [
    {
     "name": "stdout",
     "output_type": "stream",
     "text": [
      "Set parameter Username\n",
      "Set parameter LicenseID to value 2656772\n",
      "Academic license - for non-commercial use only - expires 2026-04-25\n",
      "Optimal capacities determined for Charging station 1 for tariff value of 1 €/kW/year and for dynamic retail prices\n",
      "Optimal capacities determined for Charging station 2 for tariff value of 1 €/kW/year and for dynamic retail prices\n",
      "Optimal capacities determined for Charging station 1 for tariff value of 1 €/kW/year and for fixed retail prices\n",
      "Optimal capacities determined for Charging station 2 for tariff value of 1 €/kW/year and for fixed retail prices\n",
      "Optimal capacities determined for Charging station 1 for tariff value of 25 €/kW/year and for dynamic retail prices\n",
      "Optimal capacities determined for Charging station 2 for tariff value of 25 €/kW/year and for dynamic retail prices\n",
      "Optimal capacities determined for Charging station 1 for tariff value of 25 €/kW/year and for fixed retail prices\n",
      "Optimal capacities determined for Charging station 2 for tariff value of 25 €/kW/year and for fixed retail prices\n",
      "Optimal capacities determined for Charging station 1 for tariff value of 50 €/kW/year and for dynamic retail prices\n",
      "Optimal capacities determined for Charging station 2 for tariff value of 50 €/kW/year and for dynamic retail prices\n",
      "Optimal capacities determined for Charging station 1 for tariff value of 50 €/kW/year and for fixed retail prices\n",
      "Optimal capacities determined for Charging station 2 for tariff value of 50 €/kW/year and for fixed retail prices\n",
      "Optimal capacities determined for Charging station 1 for tariff value of 75 €/kW/year and for dynamic retail prices\n",
      "Optimal capacities determined for Charging station 2 for tariff value of 75 €/kW/year and for dynamic retail prices\n",
      "Optimal capacities determined for Charging station 1 for tariff value of 75 €/kW/year and for fixed retail prices\n",
      "Optimal capacities determined for Charging station 2 for tariff value of 75 €/kW/year and for fixed retail prices\n",
      "Optimal capacities determined for Charging station 1 for tariff value of 100 €/kW/year and for dynamic retail prices\n",
      "Optimal capacities determined for Charging station 2 for tariff value of 100 €/kW/year and for dynamic retail prices\n",
      "Optimal capacities determined for Charging station 1 for tariff value of 100 €/kW/year and for fixed retail prices\n",
      "Optimal capacities determined for Charging station 2 for tariff value of 100 €/kW/year and for fixed retail prices\n"
     ]
    }
   ],
   "source": [
    "from helperfunctions.capacity_preparation_model import capacity_tariffs_preparation\n",
    "capacity_prep_dict={}\n",
    "for tariff_value in [1,25,50,75,100]:\n",
    "    for dynamic_retail_prices_considered in [True,False]:\n",
    "        for CS in charging_session_data['Charging station ID'].unique():\n",
    "            charging_session_data_CS=charging_session_data[charging_session_data['Charging station ID']==CS]\n",
    "            if dynamic_retail_prices_considered==True:\n",
    "                capacity_prep_dict[CS+'_'+str(tariff_value)+'_dynamic']=capacity_tariffs_preparation(charging_session_data_CS,timesteplist,day_ahead_prices,dynamic_retail_prices_considered,tariff_value)\n",
    "                print('Optimal capacities determined for '+CS+' for tariff value of '+str(tariff_value)+' €/kW/year and for dynamic retail prices')\n",
    "            else:\n",
    "                capacity_prep_dict[CS+'_'+str(tariff_value)+'_fixed']=capacity_tariffs_preparation(charging_session_data_CS,timesteplist,day_ahead_prices,dynamic_retail_prices_considered,tariff_value)\n",
    "                print('Optimal capacities determined for '+CS+' for tariff value of '+str(tariff_value)+' €/kW/year and for fixed retail prices')\n",
    "pd.to_pickle(capacity_prep_dict,'results/optimal_capacities_capacity_tariff.pkl')"
   ]
  },
  {
   "cell_type": "code",
   "execution_count": 7,
   "id": "5eecb90a",
   "metadata": {},
   "outputs": [
    {
     "name": "stdout",
     "output_type": "stream",
     "text": [
      "0/3169\n"
     ]
    },
    {
     "ename": "KeyboardInterrupt",
     "evalue": "",
     "output_type": "error",
     "traceback": [
      "\u001b[1;31m---------------------------------------------------------------------------\u001b[0m",
      "\u001b[1;31mKeyboardInterrupt\u001b[0m                         Traceback (most recent call last)",
      "Cell \u001b[1;32mIn[7], line 26\u001b[0m\n\u001b[0;32m     24\u001b[0m     timesteplist_month\u001b[38;5;241m=\u001b[39mpd\u001b[38;5;241m.\u001b[39mdate_range(start\u001b[38;5;241m=\u001b[39mdatetime\u001b[38;5;241m.\u001b[39mdatetime(\u001b[38;5;241m2022\u001b[39m,month,\u001b[38;5;241m1\u001b[39m,tzinfo\u001b[38;5;241m=\u001b[39mpytz\u001b[38;5;241m.\u001b[39mtimezone(\u001b[38;5;124m'\u001b[39m\u001b[38;5;124mCET\u001b[39m\u001b[38;5;124m'\u001b[39m)),end\u001b[38;5;241m=\u001b[39mdatetime\u001b[38;5;241m.\u001b[39mdatetime(\u001b[38;5;241m2023\u001b[39m,\u001b[38;5;241m1\u001b[39m,\u001b[38;5;241m1\u001b[39m,tzinfo\u001b[38;5;241m=\u001b[39mpytz\u001b[38;5;241m.\u001b[39mtimezone(\u001b[38;5;124m'\u001b[39m\u001b[38;5;124mCET\u001b[39m\u001b[38;5;124m'\u001b[39m))\u001b[38;5;241m+\u001b[39mdatetime\u001b[38;5;241m.\u001b[39mtimedelta(days\u001b[38;5;241m=\u001b[39m\u001b[38;5;241m2\u001b[39m),freq\u001b[38;5;241m=\u001b[39m\u001b[38;5;124m'\u001b[39m\u001b[38;5;124m15Min\u001b[39m\u001b[38;5;124m'\u001b[39m,tz\u001b[38;5;241m=\u001b[39m\u001b[38;5;124m'\u001b[39m\u001b[38;5;124mCET\u001b[39m\u001b[38;5;124m'\u001b[39m)\n\u001b[0;32m     25\u001b[0m charging_session_data_CS_month\u001b[38;5;241m=\u001b[39mcharging_session_data_CS[charging_session_data_CS[\u001b[38;5;124m'\u001b[39m\u001b[38;5;124mArrival time\u001b[39m\u001b[38;5;124m'\u001b[39m]\u001b[38;5;241m.\u001b[39mdt\u001b[38;5;241m.\u001b[39mmonth\u001b[38;5;241m==\u001b[39mmonth]\n\u001b[1;32m---> 26\u001b[0m results_CS_month\u001b[38;5;241m=\u001b[39mcapacity_tariffs(charging_session_data_CS_month, timesteplist_month, CS, day_ahead_prices, dynamic_retail_prices_considered, tariff_value,initial_peak)\n\u001b[0;32m     27\u001b[0m \u001b[38;5;28;01mfor\u001b[39;00m t \u001b[38;5;129;01min\u001b[39;00m timesteplist_month:\n\u001b[0;32m     28\u001b[0m     capacity_total\u001b[38;5;241m.\u001b[39mat[t,CS]\u001b[38;5;241m=\u001b[39mresults_CS_month\u001b[38;5;241m.\u001b[39mloc[t,CS]\n",
      "File \u001b[1;32mc:\\Users\\4013425\\Documents\\GitHub\\Grid-tariffs-vs-EV-charging\\helperfunctions\\capacity_model.py:18\u001b[0m, in \u001b[0;36mcapacity_tariffs\u001b[1;34m(charging_session_data, timesteplist, CS, DA_prices, dynamic_retail_prices_considered, capacity_tariff, initial_peak)\u001b[0m\n\u001b[0;32m     10\u001b[0m \u001b[38;5;28;01mdef\u001b[39;00m \u001b[38;5;21mcapacity_tariffs\u001b[39m(charging_session_data, timesteplist, CS, DA_prices, dynamic_retail_prices_considered, capacity_tariff, initial_peak):\n\u001b[0;32m     11\u001b[0m \u001b[38;5;250m    \u001b[39m\u001b[38;5;124;03m\"\"\"\u001b[39;00m\n\u001b[0;32m     12\u001b[0m \u001b[38;5;124;03m    Rolling optimization model under capacity tariffs, optimizing each individual timestep to avoid that the model anticipates future charging session in the optimization.\u001b[39;00m\n\u001b[0;32m     13\u001b[0m \u001b[38;5;124;03m    Args:\u001b[39;00m\n\u001b[0;32m     14\u001b[0m \u001b[38;5;124;03m        charging_session_data (pd.DataFrame): EV sessions, including arrival/departure, max charging power, and demand (kWh).\u001b[39;00m\n\u001b[0;32m     15\u001b[0m \u001b[38;5;124;03m        timesteplist (list): List of datetime timestamps to loop over.\u001b[39;00m\n\u001b[0;32m     16\u001b[0m \u001b[38;5;124;03m        CS (str): Name to represent the column storing the total charging power in the result DataFrame.\u001b[39;00m\n\u001b[0;32m     17\u001b[0m \u001b[38;5;124;03m        DA_prices (pd.DataFrame): DataFrame with day-ahead prices indexed by timestamp (€/MWh).\u001b[39;00m\n\u001b[1;32m---> 18\u001b[0m \u001b[38;5;124;03m        dynamic_retail_prices_considered (bool): If True, energy costs are included in the objective.\u001b[39;00m\n\u001b[0;32m     19\u001b[0m \u001b[38;5;124;03m        capacity_tariff (float): Annual cost per extra kW of peak capacity.\u001b[39;00m\n\u001b[0;32m     20\u001b[0m \u001b[38;5;124;03m        initial_peak (float): Initial contracted or observed peak (kW) available before optimization.\u001b[39;00m\n\u001b[0;32m     21\u001b[0m \n\u001b[0;32m     22\u001b[0m \u001b[38;5;124;03m    Returns:\u001b[39;00m\n\u001b[0;32m     23\u001b[0m \u001b[38;5;124;03m        pd.DataFrame: DataFrame indexed by timestep, containing optimized total charging power (column CS).\u001b[39;00m\n\u001b[0;32m     24\u001b[0m \u001b[38;5;124;03m    \"\"\"\u001b[39;00m\n\u001b[0;32m     26\u001b[0m     \u001b[38;5;66;03m# Initialize results DataFrame\u001b[39;00m\n\u001b[0;32m     27\u001b[0m     resultdf \u001b[38;5;241m=\u001b[39m pd\u001b[38;5;241m.\u001b[39mDataFrame()\n",
      "File \u001b[1;32mc:\\Users\\4013425\\AppData\\Local\\anaconda3\\Lib\\site-packages\\pandas\\core\\frame.py:4075\u001b[0m, in \u001b[0;36mDataFrame.__getitem__\u001b[1;34m(self, key)\u001b[0m\n\u001b[0;32m   4070\u001b[0m is_mi \u001b[38;5;241m=\u001b[39m \u001b[38;5;28misinstance\u001b[39m(\u001b[38;5;28mself\u001b[39m\u001b[38;5;241m.\u001b[39mcolumns, MultiIndex)\n\u001b[0;32m   4071\u001b[0m \u001b[38;5;66;03m# GH#45316 Return view if key is not duplicated\u001b[39;00m\n\u001b[0;32m   4072\u001b[0m \u001b[38;5;66;03m# Only use drop_duplicates with duplicates for performance\u001b[39;00m\n\u001b[0;32m   4073\u001b[0m \u001b[38;5;28;01mif\u001b[39;00m \u001b[38;5;129;01mnot\u001b[39;00m is_mi \u001b[38;5;129;01mand\u001b[39;00m (\n\u001b[0;32m   4074\u001b[0m     \u001b[38;5;28mself\u001b[39m\u001b[38;5;241m.\u001b[39mcolumns\u001b[38;5;241m.\u001b[39mis_unique\n\u001b[1;32m-> 4075\u001b[0m     \u001b[38;5;129;01mand\u001b[39;00m key \u001b[38;5;129;01min\u001b[39;00m \u001b[38;5;28mself\u001b[39m\u001b[38;5;241m.\u001b[39mcolumns\n\u001b[0;32m   4076\u001b[0m     \u001b[38;5;129;01mor\u001b[39;00m key \u001b[38;5;129;01min\u001b[39;00m \u001b[38;5;28mself\u001b[39m\u001b[38;5;241m.\u001b[39mcolumns\u001b[38;5;241m.\u001b[39mdrop_duplicates(keep\u001b[38;5;241m=\u001b[39m\u001b[38;5;28;01mFalse\u001b[39;00m)\n\u001b[0;32m   4077\u001b[0m ):\n\u001b[0;32m   4078\u001b[0m     \u001b[38;5;28;01mreturn\u001b[39;00m \u001b[38;5;28mself\u001b[39m\u001b[38;5;241m.\u001b[39m_get_item_cache(key)\n\u001b[0;32m   4080\u001b[0m \u001b[38;5;28;01melif\u001b[39;00m is_mi \u001b[38;5;129;01mand\u001b[39;00m \u001b[38;5;28mself\u001b[39m\u001b[38;5;241m.\u001b[39mcolumns\u001b[38;5;241m.\u001b[39mis_unique \u001b[38;5;129;01mand\u001b[39;00m key \u001b[38;5;129;01min\u001b[39;00m \u001b[38;5;28mself\u001b[39m\u001b[38;5;241m.\u001b[39mcolumns:\n",
      "File \u001b[1;32mc:\\Users\\4013425\\AppData\\Local\\anaconda3\\Lib\\site-packages\\pandas\\core\\indexes\\base.py:5358\u001b[0m, in \u001b[0;36mIndex.__contains__\u001b[1;34m(self, key)\u001b[0m\n\u001b[0;32m   5323\u001b[0m \u001b[38;5;28;01mdef\u001b[39;00m \u001b[38;5;21m__contains__\u001b[39m(\u001b[38;5;28mself\u001b[39m, key: Any) \u001b[38;5;241m-\u001b[39m\u001b[38;5;241m>\u001b[39m \u001b[38;5;28mbool\u001b[39m:\n\u001b[0;32m   5324\u001b[0m \u001b[38;5;250m    \u001b[39m\u001b[38;5;124;03m\"\"\"\u001b[39;00m\n\u001b[0;32m   5325\u001b[0m \u001b[38;5;124;03m    Return a boolean indicating whether the provided key is in the index.\u001b[39;00m\n\u001b[0;32m   5326\u001b[0m \n\u001b[1;32m   (...)\u001b[0m\n\u001b[0;32m   5356\u001b[0m \u001b[38;5;124;03m    False\u001b[39;00m\n\u001b[0;32m   5357\u001b[0m \u001b[38;5;124;03m    \"\"\"\u001b[39;00m\n\u001b[1;32m-> 5358\u001b[0m     \u001b[38;5;28mhash\u001b[39m(key)\n\u001b[0;32m   5359\u001b[0m     \u001b[38;5;28;01mtry\u001b[39;00m:\n\u001b[0;32m   5360\u001b[0m         \u001b[38;5;28;01mreturn\u001b[39;00m key \u001b[38;5;129;01min\u001b[39;00m \u001b[38;5;28mself\u001b[39m\u001b[38;5;241m.\u001b[39m_engine\n",
      "\u001b[1;31mKeyboardInterrupt\u001b[0m: "
     ]
    }
   ],
   "source": [
    "from helperfunctions.capacity_model import capacity_tariffs\n",
    "capacity_prep_dict=pd.read_pickle('results/optimal_capacities_capacity_tariff.pkl')\n",
    "for tariff_value in [1,25,50,75,100]:\n",
    "    for dynamic_retail_prices_considered in [True,False]:\n",
    "        capacity_total=pd.DataFrame(0,index=timesteplist,columns=charging_session_data['Charging station ID'].unique())\n",
    "        for CS in charging_session_data['Charging station ID'].unique():\n",
    "            charging_session_data_CS=charging_session_data[charging_session_data['Charging station ID']==CS]\n",
    "            for month in range(1,13):\n",
    "                initial_peak=0\n",
    "                for prev_month in [month-1,month-2,month-3]:\n",
    "                    if dynamic_retail_prices_considered==True:\n",
    "                        try:\n",
    "                            initial_peak+=capacity_prep_dict[CS+'_'+str(tariff_value)+'_dynamic'][prev_month]/3\n",
    "                        except:\n",
    "                            initial_peak+=10/3\n",
    "                    else:\n",
    "                        try:\n",
    "                            initial_peak+=capacity_prep_dict[CS+'_'+str(tariff_value)+'_fixed'][prev_month]/3\n",
    "                        except:\n",
    "                            initial_peak+=10/3\n",
    "                try:\n",
    "                    timesteplist_month=pd.date_range(start=datetime.datetime(2022,month,1,tzinfo=pytz.timezone('CET')),end=datetime.datetime(2022,month+1,1,tzinfo=pytz.timezone('CET'))+datetime.timedelta(days=2),freq='15Min',tz='CET')\n",
    "                except:\n",
    "                    timesteplist_month=pd.date_range(start=datetime.datetime(2022,month,1,tzinfo=pytz.timezone('CET')),end=datetime.datetime(2023,1,1,tzinfo=pytz.timezone('CET'))+datetime.timedelta(days=2),freq='15Min',tz='CET')\n",
    "                charging_session_data_CS_month=charging_session_data_CS[charging_session_data_CS['Arrival time'].dt.month==month]\n",
    "                results_CS_month=capacity_tariffs(charging_session_data_CS_month, timesteplist_month, CS, day_ahead_prices, dynamic_retail_prices_considered, tariff_value,initial_peak)\n",
    "                for t in timesteplist_month:\n",
    "                    capacity_total.at[t,CS]=results_CS_month.loc[t,CS]\n",
    "\n",
    "                if dynamic_retail_prices_considered==True:\n",
    "                    print('Capacity tariff profiles modelled for tariff value of '+str(tariff_value)+' €/kW for month '+str(month)+' and for dynamic retail prices')\n",
    "                else:\n",
    "                    print('Capacity tariff profiles modelled for tariff value of '+str(tariff_value)+' €/kW for month '+str(month)+' and for fixed retail prices')\n",
    "\n"
   ]
  }
 ],
 "metadata": {
  "kernelspec": {
   "display_name": "base",
   "language": "python",
   "name": "python3"
  },
  "language_info": {
   "codemirror_mode": {
    "name": "ipython",
    "version": 3
   },
   "file_extension": ".py",
   "mimetype": "text/x-python",
   "name": "python",
   "nbconvert_exporter": "python",
   "pygments_lexer": "ipython3",
   "version": "3.12.7"
  }
 },
 "nbformat": 4,
 "nbformat_minor": 5
}
