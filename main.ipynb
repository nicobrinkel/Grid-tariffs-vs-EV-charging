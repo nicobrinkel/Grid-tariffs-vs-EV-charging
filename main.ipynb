{
 "cells": [
  {
   "cell_type": "code",
   "execution_count": 1,
   "id": "3c6d6bf5",
   "metadata": {},
   "outputs": [],
   "source": [
    "import pandas as pd\n",
    "import datetime\n",
    "import pytz\n",
    "import numpy as np\n",
    "charging_session_data=pd.read_pickle('data/charging_session_data_sample.pkl')\n",
    "start_date=datetime.datetime(2022,1,1,tzinfo=pytz.timezone('CET'))\n",
    "end_date=datetime.datetime(2023,1,1,tzinfo=pytz.timezone('CET'))\n",
    "timesteplist=pd.date_range(start=start_date,end=end_date+datetime.timedelta(days=2),freq='15Min',tz='CET')\n",
    "day_ahead_prices=pd.read_pickle('data/day_ahead_market_prices_NL.pkl')"
   ]
  },
  {
   "cell_type": "code",
   "execution_count": null,
   "id": "c2ff0d2e",
   "metadata": {},
   "outputs": [
    {
     "name": "stdout",
     "output_type": "stream",
     "text": [
      "Uncontrolled charging profiles for all charging stations modelled\n"
     ]
    }
   ],
   "source": [
    "from helperfunctions.uncontrolled_charging_model import uncontrolled_charging\n",
    "\n",
    "uncontrolled_charging_total=uncontrolled_charging(charging_session_data,timesteplist)\n",
    "print('Uncontrolled charging profiles for all charging stations modelled')"
   ]
  },
  {
   "cell_type": "code",
   "execution_count": null,
   "id": "f9eff474",
   "metadata": {},
   "outputs": [
    {
     "name": "stdout",
     "output_type": "stream",
     "text": [
      "Set parameter Username\n",
      "Set parameter LicenseID to value 2656772\n",
      "Academic license - for non-commercial use only - expires 2026-04-25\n",
      "Optimal dynamic retail price charging profile for Charging station 1 modelled\n",
      "Optimal dynamic retail price charging profile for Charging station 2 modelled\n"
     ]
    }
   ],
   "source": [
    "from helperfunctions.volumetric_ToU_model import volumetric_ToU\n",
    "\n",
    "grid_tariff_df=pd.DataFrame(0,index=timesteplist,columns=['Grid tariff (€/kWh)'])\n",
    "DA_charging_total=pd.DataFrame(0,index=timesteplist,columns=charging_session_data['Charging station ID'].unique())\n",
    "for CS in charging_session_data['Charging station ID'].unique():\n",
    "    charging_session_data_CS=charging_session_data[charging_session_data['Charging station ID']==CS]\n",
    "    DA_charging_total[CS]=volumetric_ToU(charging_session_data_CS,timesteplist,CS,grid_tariff_df,day_ahead_prices,True)\n",
    "    print('Optimal dynamic retail price charging profile for '+CS+' modelled')"
   ]
  },
  {
   "cell_type": "code",
   "execution_count": null,
   "id": "76b4abe0",
   "metadata": {},
   "outputs": [
    {
     "name": "stdout",
     "output_type": "stream",
     "text": [
      "Volumetric ToU profiles modelled for low tariff value of 0.01 €/kWh and for dynamic retail prices\n",
      "Volumetric ToU profiles modelled for low tariff value of 0.01 €/kWh and for fixed retail prices\n",
      "Volumetric ToU profiles modelled for low tariff value of 0.02 €/kWh and for dynamic retail prices\n",
      "Volumetric ToU profiles modelled for low tariff value of 0.02 €/kWh and for fixed retail prices\n",
      "Volumetric ToU profiles modelled for low tariff value of 0.03 €/kWh and for dynamic retail prices\n",
      "Volumetric ToU profiles modelled for low tariff value of 0.03 €/kWh and for fixed retail prices\n"
     ]
    }
   ],
   "source": [
    "for low_tariff_value in [0.01,0.02,0.03]:\n",
    "    medium_tariff_value=low_tariff_value*2\n",
    "    high_tariff_value=low_tariff_value*3\n",
    "\n",
    "    grid_tariff_df=pd.DataFrame(0,index=timesteplist,columns=['Grid tariff (€/kWh)'])\n",
    "    high_tariff_hours=[18,19,20,21]\n",
    "    medium_tariff_hours=[22,23,0,16,17]\n",
    "    low_tariff_hours=list(range(1,16))\n",
    "    grid_tariff_df['Grid tariff (€/kWh)']=np.where(grid_tariff_df.index.hour.isin(high_tariff_hours),high_tariff_value,grid_tariff_df['Grid tariff (€/kWh)'])\n",
    "    grid_tariff_df['Grid tariff (€/kWh)']=np.where(grid_tariff_df.index.hour.isin(medium_tariff_hours),medium_tariff_value,grid_tariff_df['Grid tariff (€/kWh)'])\n",
    "    grid_tariff_df['Grid tariff (€/kWh)']=np.where(grid_tariff_df.index.hour.isin(low_tariff_hours),low_tariff_value,grid_tariff_df['Grid tariff (€/kWh)'])\n",
    "    for dynamic_retail_prices_considered in [True, False]:\n",
    "        volumetric_ToU_total=pd.DataFrame(0,index=timesteplist,columns=charging_session_data['Charging station ID'].unique())\n",
    "        for CS in charging_session_data['Charging station ID'].unique():\n",
    "            charging_session_data_CS=charging_session_data[charging_session_data['Charging station ID']==CS]\n",
    "            volumetric_ToU_total[CS]=volumetric_ToU(charging_session_data_CS,timesteplist,CS,grid_tariff_df,day_ahead_prices,dynamic_retail_prices_considered)\n",
    "        if dynamic_retail_prices_considered==True:\n",
    "            print('Volumetric ToU profiles modelled for low tariff value of '+str(low_tariff_value)+' €/kWh and for dynamic retail prices')\n",
    "        else:\n",
    "            print('Volumetric ToU profiles modelled for low tariff value of '+str(low_tariff_value)+' €/kWh and for fixed retail prices')"
   ]
  },
  {
   "cell_type": "code",
   "execution_count": null,
   "id": "453e1817",
   "metadata": {},
   "outputs": [
    {
     "name": "stdout",
     "output_type": "stream",
     "text": [
      "Segmented volumetric ToU profiles modelled for low tariff value of 0.01 €/kWh and for dynamic retail prices\n",
      "Segmented volumetric ToU profiles modelled for low tariff value of 0.01 €/kWh and for fixed retail prices\n",
      "Segmented volumetric ToU profiles modelled for low tariff value of 0.02 €/kWh and for dynamic retail prices\n",
      "Segmented volumetric ToU profiles modelled for low tariff value of 0.02 €/kWh and for fixed retail prices\n",
      "Segmented volumetric ToU profiles modelled for low tariff value of 0.03 €/kWh and for dynamic retail prices\n",
      "Segmented volumetric ToU profiles modelled for low tariff value of 0.03 €/kWh and for fixed retail prices\n"
     ]
    }
   ],
   "source": [
    "from helperfunctions.segmented_volumetric_ToU_model import segmented_volumetric_ToU\n",
    "\n",
    "\n",
    "for low_tariff_value in [0.01,0.02,0.03]:\n",
    "    medium_tariff_value=low_tariff_value*2\n",
    "    high_tariff_value=low_tariff_value*3\n",
    "\n",
    "    grid_tariff_df=pd.DataFrame(0,index=timesteplist,columns=['Grid tariff (€/kWh)'])\n",
    "    high_tariff_hours=[18,19,20,21]\n",
    "    medium_tariff_hours=[22,23,0,16,17]\n",
    "    low_tariff_hours=list(range(1,16))\n",
    "    tariff_threshold_df=pd.DataFrame(index=timesteplist,columns=['Threshold_1','Threshold_2'])\n",
    "    tariff_threshold_df['Threshold_1']=np.where(tariff_threshold_df.index.hour.isin(low_tariff_hours),4,0)\n",
    "    tariff_threshold_df['Threshold_2']=np.where(tariff_threshold_df.index.hour.isin(high_tariff_hours),0,4)  \n",
    "    for dynamic_retail_prices_considered in [True, False]:\n",
    "        segmented_volumetric_ToU_total=pd.DataFrame(0,index=timesteplist,columns=charging_session_data['Charging station ID'].unique())\n",
    "        for CS in charging_session_data['Charging station ID'].unique():\n",
    "            charging_session_data_CS=charging_session_data[charging_session_data['Charging station ID']==CS]\n",
    "            segmented_volumetric_ToU_total[CS]=segmented_volumetric_ToU(charging_session_data_CS,timesteplist,CS,tariff_threshold_df,day_ahead_prices,dynamic_retail_prices_considered,low_tariff_value,medium_tariff_value,high_tariff_value)\n",
    "        if dynamic_retail_prices_considered==True:\n",
    "            print('Segmented volumetric ToU profiles modelled for low tariff value of '+str(low_tariff_value)+' €/kWh and for dynamic retail prices')\n",
    "        else:\n",
    "            print('Segmented volumetric ToU profiles modelled for low tariff value of '+str(low_tariff_value)+' €/kWh and for fixed retail prices')"
   ]
  },
  {
   "cell_type": "code",
   "execution_count": null,
   "id": "0cdc89e4",
   "metadata": {},
   "outputs": [
    {
     "name": "stdout",
     "output_type": "stream",
     "text": [
      "Set parameter Username\n",
      "Set parameter LicenseID to value 2656772\n",
      "Academic license - for non-commercial use only - expires 2026-04-25\n",
      "Optimal capacities determined for Charging station 1 for tariff value of 1 €/kW/year and for dynamic retail prices\n",
      "Optimal capacities determined for Charging station 2 for tariff value of 1 €/kW/year and for dynamic retail prices\n",
      "Optimal capacities determined for Charging station 1 for tariff value of 1 €/kW/year and for fixed retail prices\n",
      "Optimal capacities determined for Charging station 2 for tariff value of 1 €/kW/year and for fixed retail prices\n",
      "Optimal capacities determined for Charging station 1 for tariff value of 25 €/kW/year and for dynamic retail prices\n",
      "Optimal capacities determined for Charging station 2 for tariff value of 25 €/kW/year and for dynamic retail prices\n",
      "Optimal capacities determined for Charging station 1 for tariff value of 25 €/kW/year and for fixed retail prices\n",
      "Optimal capacities determined for Charging station 2 for tariff value of 25 €/kW/year and for fixed retail prices\n",
      "Optimal capacities determined for Charging station 1 for tariff value of 50 €/kW/year and for dynamic retail prices\n",
      "Optimal capacities determined for Charging station 2 for tariff value of 50 €/kW/year and for dynamic retail prices\n",
      "Optimal capacities determined for Charging station 1 for tariff value of 50 €/kW/year and for fixed retail prices\n",
      "Optimal capacities determined for Charging station 2 for tariff value of 50 €/kW/year and for fixed retail prices\n",
      "Optimal capacities determined for Charging station 1 for tariff value of 75 €/kW/year and for dynamic retail prices\n",
      "Optimal capacities determined for Charging station 2 for tariff value of 75 €/kW/year and for dynamic retail prices\n",
      "Optimal capacities determined for Charging station 1 for tariff value of 75 €/kW/year and for fixed retail prices\n",
      "Optimal capacities determined for Charging station 2 for tariff value of 75 €/kW/year and for fixed retail prices\n",
      "Optimal capacities determined for Charging station 1 for tariff value of 100 €/kW/year and for dynamic retail prices\n",
      "Optimal capacities determined for Charging station 2 for tariff value of 100 €/kW/year and for dynamic retail prices\n",
      "Optimal capacities determined for Charging station 1 for tariff value of 100 €/kW/year and for fixed retail prices\n",
      "Optimal capacities determined for Charging station 2 for tariff value of 100 €/kW/year and for fixed retail prices\n"
     ]
    }
   ],
   "source": [
    "from helperfunctions.capacity_preparation_model import capacity_tariffs_preparation\n",
    "capacity_prep_dict={}\n",
    "for tariff_value in [1,25,50,75,100]:\n",
    "    for dynamic_retail_prices_considered in [True,False]:\n",
    "        for CS in charging_session_data['Charging station ID'].unique():\n",
    "            charging_session_data_CS=charging_session_data[charging_session_data['Charging station ID']==CS]\n",
    "            if dynamic_retail_prices_considered==True:\n",
    "                capacity_prep_dict[CS+'_'+str(tariff_value)+'_dynamic']=capacity_tariffs_preparation(charging_session_data_CS,timesteplist,day_ahead_prices,dynamic_retail_prices_considered,tariff_value)\n",
    "                print('Optimal capacities determined for '+CS+' for tariff value of '+str(tariff_value)+' €/kW/year and for dynamic retail prices')\n",
    "            else:\n",
    "                capacity_prep_dict[CS+'_'+str(tariff_value)+'_fixed']=capacity_tariffs_preparation(charging_session_data_CS,timesteplist,day_ahead_prices,dynamic_retail_prices_considered,tariff_value)\n",
    "                print('Optimal capacities determined for '+CS+' for tariff value of '+str(tariff_value)+' €/kW/year and for fixed retail prices')\n",
    "pd.to_pickle(capacity_prep_dict,'results/optimal_capacities_capacity_tariff.pkl')"
   ]
  },
  {
   "cell_type": "code",
   "execution_count": 3,
   "id": "5eecb90a",
   "metadata": {},
   "outputs": [
    {
     "name": "stdout",
     "output_type": "stream",
     "text": [
      "Capacity tariff profiles modelled for tariff value of 1 €/kW for month 1 and for dynamic retail prices\n",
      "Capacity tariff profiles modelled for tariff value of 1 €/kW for month 2 and for dynamic retail prices\n",
      "Capacity tariff profiles modelled for tariff value of 1 €/kW for month 3 and for dynamic retail prices\n",
      "Capacity tariff profiles modelled for tariff value of 1 €/kW for month 4 and for dynamic retail prices\n",
      "Capacity tariff profiles modelled for tariff value of 1 €/kW for month 5 and for dynamic retail prices\n",
      "Capacity tariff profiles modelled for tariff value of 1 €/kW for month 6 and for dynamic retail prices\n",
      "Capacity tariff profiles modelled for tariff value of 1 €/kW for month 7 and for dynamic retail prices\n",
      "Capacity tariff profiles modelled for tariff value of 1 €/kW for month 8 and for dynamic retail prices\n",
      "Capacity tariff profiles modelled for tariff value of 1 €/kW for month 9 and for dynamic retail prices\n",
      "Capacity tariff profiles modelled for tariff value of 1 €/kW for month 10 and for dynamic retail prices\n",
      "Capacity tariff profiles modelled for tariff value of 1 €/kW for month 11 and for dynamic retail prices\n",
      "Capacity tariff profiles modelled for tariff value of 1 €/kW for month 12 and for dynamic retail prices\n",
      "Capacity tariff profiles modelled for tariff value of 1 €/kW for month 1 and for dynamic retail prices\n",
      "Capacity tariff profiles modelled for tariff value of 1 €/kW for month 2 and for dynamic retail prices\n",
      "Capacity tariff profiles modelled for tariff value of 1 €/kW for month 3 and for dynamic retail prices\n",
      "Capacity tariff profiles modelled for tariff value of 1 €/kW for month 4 and for dynamic retail prices\n",
      "Capacity tariff profiles modelled for tariff value of 1 €/kW for month 5 and for dynamic retail prices\n",
      "Capacity tariff profiles modelled for tariff value of 1 €/kW for month 6 and for dynamic retail prices\n"
     ]
    },
    {
     "ename": "KeyboardInterrupt",
     "evalue": "",
     "output_type": "error",
     "traceback": [
      "\u001b[1;31m---------------------------------------------------------------------------\u001b[0m",
      "\u001b[1;31mKeyboardInterrupt\u001b[0m                         Traceback (most recent call last)",
      "Cell \u001b[1;32mIn[3], line 26\u001b[0m\n\u001b[0;32m     24\u001b[0m     timesteplist_month\u001b[38;5;241m=\u001b[39mpd\u001b[38;5;241m.\u001b[39mdate_range(start\u001b[38;5;241m=\u001b[39mdatetime\u001b[38;5;241m.\u001b[39mdatetime(\u001b[38;5;241m2022\u001b[39m,month,\u001b[38;5;241m1\u001b[39m,tzinfo\u001b[38;5;241m=\u001b[39mpytz\u001b[38;5;241m.\u001b[39mtimezone(\u001b[38;5;124m'\u001b[39m\u001b[38;5;124mCET\u001b[39m\u001b[38;5;124m'\u001b[39m)),end\u001b[38;5;241m=\u001b[39mdatetime\u001b[38;5;241m.\u001b[39mdatetime(\u001b[38;5;241m2023\u001b[39m,\u001b[38;5;241m1\u001b[39m,\u001b[38;5;241m1\u001b[39m,tzinfo\u001b[38;5;241m=\u001b[39mpytz\u001b[38;5;241m.\u001b[39mtimezone(\u001b[38;5;124m'\u001b[39m\u001b[38;5;124mCET\u001b[39m\u001b[38;5;124m'\u001b[39m))\u001b[38;5;241m+\u001b[39mdatetime\u001b[38;5;241m.\u001b[39mtimedelta(days\u001b[38;5;241m=\u001b[39m\u001b[38;5;241m2\u001b[39m),freq\u001b[38;5;241m=\u001b[39m\u001b[38;5;124m'\u001b[39m\u001b[38;5;124m15Min\u001b[39m\u001b[38;5;124m'\u001b[39m,tz\u001b[38;5;241m=\u001b[39m\u001b[38;5;124m'\u001b[39m\u001b[38;5;124mCET\u001b[39m\u001b[38;5;124m'\u001b[39m)\n\u001b[0;32m     25\u001b[0m charging_session_data_CS_month\u001b[38;5;241m=\u001b[39mcharging_session_data_CS[charging_session_data_CS[\u001b[38;5;124m'\u001b[39m\u001b[38;5;124mArrival time\u001b[39m\u001b[38;5;124m'\u001b[39m]\u001b[38;5;241m.\u001b[39mdt\u001b[38;5;241m.\u001b[39mmonth\u001b[38;5;241m==\u001b[39mmonth]\n\u001b[1;32m---> 26\u001b[0m results_CS_month\u001b[38;5;241m=\u001b[39mcapacity_tariffs(charging_session_data_CS_month, timesteplist_month, CS, day_ahead_prices, dynamic_retail_prices_considered, tariff_value,initial_peak)\n\u001b[0;32m     27\u001b[0m \u001b[38;5;28;01mfor\u001b[39;00m t \u001b[38;5;129;01min\u001b[39;00m timesteplist_month:\n\u001b[0;32m     28\u001b[0m     capacity_total\u001b[38;5;241m.\u001b[39mat[t,CS]\u001b[38;5;241m+\u001b[39m\u001b[38;5;241m=\u001b[39mresults_CS_month\u001b[38;5;241m.\u001b[39mloc[t,CS]\n",
      "File \u001b[1;32mc:\\Users\\4013425\\Documents\\GitHub\\Grid-tariffs-vs-EV-charging\\helperfunctions\\capacity_model.py:46\u001b[0m, in \u001b[0;36mcapacity_tariffs\u001b[1;34m(charging_session_data, timesteplist, CS, DA_prices, dynamic_retail_prices_considered, capacity_tariff, initial_peak)\u001b[0m\n\u001b[0;32m     41\u001b[0m \u001b[38;5;66;03m# Only optimize if there are active sessions\u001b[39;00m\n\u001b[0;32m     42\u001b[0m \u001b[38;5;28;01mif\u001b[39;00m \u001b[38;5;28mlen\u001b[39m(charging_session_data_timestep) \u001b[38;5;241m>\u001b[39m \u001b[38;5;241m0\u001b[39m:\n\u001b[0;32m     43\u001b[0m \n\u001b[0;32m     44\u001b[0m     \u001b[38;5;66;03m# Create list of future timesteps since the considered timestep until the latest departure\u001b[39;00m\n\u001b[0;32m     45\u001b[0m     timesteplist_remaining \u001b[38;5;241m=\u001b[39m [\n\u001b[1;32m---> 46\u001b[0m         t \u001b[38;5;28;01mfor\u001b[39;00m t \u001b[38;5;129;01min\u001b[39;00m timesteplist \u001b[38;5;28;01mif\u001b[39;00m t \u001b[38;5;241m>\u001b[39m\u001b[38;5;241m=\u001b[39m timestep \u001b[38;5;129;01mand\u001b[39;00m t \u001b[38;5;241m<\u001b[39m charging_session_data_timestep[\u001b[38;5;124m'\u001b[39m\u001b[38;5;124mDeparture time\u001b[39m\u001b[38;5;124m'\u001b[39m]\u001b[38;5;241m.\u001b[39mmax()\n\u001b[0;32m     47\u001b[0m     ]\n\u001b[0;32m     49\u001b[0m     \u001b[38;5;66;03m# 15-minute time resolution (in hours)\u001b[39;00m\n\u001b[0;32m     50\u001b[0m     delta_t \u001b[38;5;241m=\u001b[39m \u001b[38;5;241m0.25\u001b[39m\n",
      "File \u001b[1;32mc:\\Users\\4013425\\AppData\\Local\\anaconda3\\Lib\\site-packages\\pandas\\core\\series.py:6517\u001b[0m, in \u001b[0;36mSeries.max\u001b[1;34m(self, axis, skipna, numeric_only, **kwargs)\u001b[0m\n\u001b[0;32m   6509\u001b[0m \u001b[38;5;129m@doc\u001b[39m(make_doc(\u001b[38;5;124m\"\u001b[39m\u001b[38;5;124mmax\u001b[39m\u001b[38;5;124m\"\u001b[39m, ndim\u001b[38;5;241m=\u001b[39m\u001b[38;5;241m1\u001b[39m))\n\u001b[0;32m   6510\u001b[0m \u001b[38;5;28;01mdef\u001b[39;00m \u001b[38;5;21mmax\u001b[39m(\n\u001b[0;32m   6511\u001b[0m     \u001b[38;5;28mself\u001b[39m,\n\u001b[1;32m   (...)\u001b[0m\n\u001b[0;32m   6515\u001b[0m     \u001b[38;5;241m*\u001b[39m\u001b[38;5;241m*\u001b[39mkwargs,\n\u001b[0;32m   6516\u001b[0m ):\n\u001b[1;32m-> 6517\u001b[0m     \u001b[38;5;28;01mreturn\u001b[39;00m NDFrame\u001b[38;5;241m.\u001b[39mmax(\u001b[38;5;28mself\u001b[39m, axis, skipna, numeric_only, \u001b[38;5;241m*\u001b[39m\u001b[38;5;241m*\u001b[39mkwargs)\n",
      "File \u001b[1;32mc:\\Users\\4013425\\AppData\\Local\\anaconda3\\Lib\\site-packages\\pandas\\core\\generic.py:12404\u001b[0m, in \u001b[0;36mNDFrame.max\u001b[1;34m(self, axis, skipna, numeric_only, **kwargs)\u001b[0m\n\u001b[0;32m  12397\u001b[0m \u001b[38;5;28;01mdef\u001b[39;00m \u001b[38;5;21mmax\u001b[39m(\n\u001b[0;32m  12398\u001b[0m     \u001b[38;5;28mself\u001b[39m,\n\u001b[0;32m  12399\u001b[0m     axis: Axis \u001b[38;5;241m|\u001b[39m \u001b[38;5;28;01mNone\u001b[39;00m \u001b[38;5;241m=\u001b[39m \u001b[38;5;241m0\u001b[39m,\n\u001b[1;32m   (...)\u001b[0m\n\u001b[0;32m  12402\u001b[0m     \u001b[38;5;241m*\u001b[39m\u001b[38;5;241m*\u001b[39mkwargs,\n\u001b[0;32m  12403\u001b[0m ):\n\u001b[1;32m> 12404\u001b[0m     \u001b[38;5;28;01mreturn\u001b[39;00m \u001b[38;5;28mself\u001b[39m\u001b[38;5;241m.\u001b[39m_stat_function(\n\u001b[0;32m  12405\u001b[0m         \u001b[38;5;124m\"\u001b[39m\u001b[38;5;124mmax\u001b[39m\u001b[38;5;124m\"\u001b[39m,\n\u001b[0;32m  12406\u001b[0m         nanops\u001b[38;5;241m.\u001b[39mnanmax,\n\u001b[0;32m  12407\u001b[0m         axis,\n\u001b[0;32m  12408\u001b[0m         skipna,\n\u001b[0;32m  12409\u001b[0m         numeric_only,\n\u001b[0;32m  12410\u001b[0m         \u001b[38;5;241m*\u001b[39m\u001b[38;5;241m*\u001b[39mkwargs,\n\u001b[0;32m  12411\u001b[0m     )\n",
      "File \u001b[1;32mc:\\Users\\4013425\\AppData\\Local\\anaconda3\\Lib\\site-packages\\pandas\\core\\generic.py:12377\u001b[0m, in \u001b[0;36mNDFrame._stat_function\u001b[1;34m(self, name, func, axis, skipna, numeric_only, **kwargs)\u001b[0m\n\u001b[0;32m  12373\u001b[0m nv\u001b[38;5;241m.\u001b[39mvalidate_func(name, (), kwargs)\n\u001b[0;32m  12375\u001b[0m validate_bool_kwarg(skipna, \u001b[38;5;124m\"\u001b[39m\u001b[38;5;124mskipna\u001b[39m\u001b[38;5;124m\"\u001b[39m, none_allowed\u001b[38;5;241m=\u001b[39m\u001b[38;5;28;01mFalse\u001b[39;00m)\n\u001b[1;32m> 12377\u001b[0m \u001b[38;5;28;01mreturn\u001b[39;00m \u001b[38;5;28mself\u001b[39m\u001b[38;5;241m.\u001b[39m_reduce(\n\u001b[0;32m  12378\u001b[0m     func, name\u001b[38;5;241m=\u001b[39mname, axis\u001b[38;5;241m=\u001b[39maxis, skipna\u001b[38;5;241m=\u001b[39mskipna, numeric_only\u001b[38;5;241m=\u001b[39mnumeric_only\n\u001b[0;32m  12379\u001b[0m )\n",
      "File \u001b[1;32mc:\\Users\\4013425\\AppData\\Local\\anaconda3\\Lib\\site-packages\\pandas\\core\\series.py:6443\u001b[0m, in \u001b[0;36mSeries._reduce\u001b[1;34m(self, op, name, axis, skipna, numeric_only, filter_type, **kwds)\u001b[0m\n\u001b[0;32m   6439\u001b[0m     \u001b[38;5;28mself\u001b[39m\u001b[38;5;241m.\u001b[39m_get_axis_number(axis)\n\u001b[0;32m   6441\u001b[0m \u001b[38;5;28;01mif\u001b[39;00m \u001b[38;5;28misinstance\u001b[39m(delegate, ExtensionArray):\n\u001b[0;32m   6442\u001b[0m     \u001b[38;5;66;03m# dispatch to ExtensionArray interface\u001b[39;00m\n\u001b[1;32m-> 6443\u001b[0m     \u001b[38;5;28;01mreturn\u001b[39;00m delegate\u001b[38;5;241m.\u001b[39m_reduce(name, skipna\u001b[38;5;241m=\u001b[39mskipna, \u001b[38;5;241m*\u001b[39m\u001b[38;5;241m*\u001b[39mkwds)\n\u001b[0;32m   6445\u001b[0m \u001b[38;5;28;01melse\u001b[39;00m:\n\u001b[0;32m   6446\u001b[0m     \u001b[38;5;66;03m# dispatch to numpy arrays\u001b[39;00m\n\u001b[0;32m   6447\u001b[0m     \u001b[38;5;28;01mif\u001b[39;00m numeric_only \u001b[38;5;129;01mand\u001b[39;00m \u001b[38;5;28mself\u001b[39m\u001b[38;5;241m.\u001b[39mdtype\u001b[38;5;241m.\u001b[39mkind \u001b[38;5;129;01mnot\u001b[39;00m \u001b[38;5;129;01min\u001b[39;00m \u001b[38;5;124m\"\u001b[39m\u001b[38;5;124miufcb\u001b[39m\u001b[38;5;124m\"\u001b[39m:\n\u001b[0;32m   6448\u001b[0m         \u001b[38;5;66;03m# i.e. not is_numeric_dtype(self.dtype)\u001b[39;00m\n",
      "File \u001b[1;32mc:\\Users\\4013425\\AppData\\Local\\anaconda3\\Lib\\site-packages\\pandas\\core\\arrays\\base.py:1958\u001b[0m, in \u001b[0;36mExtensionArray._reduce\u001b[1;34m(self, name, skipna, keepdims, **kwargs)\u001b[0m\n\u001b[0;32m   1953\u001b[0m \u001b[38;5;28;01mif\u001b[39;00m meth \u001b[38;5;129;01mis\u001b[39;00m \u001b[38;5;28;01mNone\u001b[39;00m:\n\u001b[0;32m   1954\u001b[0m     \u001b[38;5;28;01mraise\u001b[39;00m \u001b[38;5;167;01mTypeError\u001b[39;00m(\n\u001b[0;32m   1955\u001b[0m         \u001b[38;5;124mf\u001b[39m\u001b[38;5;124m\"\u001b[39m\u001b[38;5;124m'\u001b[39m\u001b[38;5;132;01m{\u001b[39;00m\u001b[38;5;28mtype\u001b[39m(\u001b[38;5;28mself\u001b[39m)\u001b[38;5;241m.\u001b[39m\u001b[38;5;18m__name__\u001b[39m\u001b[38;5;132;01m}\u001b[39;00m\u001b[38;5;124m'\u001b[39m\u001b[38;5;124m with dtype \u001b[39m\u001b[38;5;132;01m{\u001b[39;00m\u001b[38;5;28mself\u001b[39m\u001b[38;5;241m.\u001b[39mdtype\u001b[38;5;132;01m}\u001b[39;00m\u001b[38;5;124m \u001b[39m\u001b[38;5;124m\"\u001b[39m\n\u001b[0;32m   1956\u001b[0m         \u001b[38;5;124mf\u001b[39m\u001b[38;5;124m\"\u001b[39m\u001b[38;5;124mdoes not support reduction \u001b[39m\u001b[38;5;124m'\u001b[39m\u001b[38;5;132;01m{\u001b[39;00mname\u001b[38;5;132;01m}\u001b[39;00m\u001b[38;5;124m'\u001b[39m\u001b[38;5;124m\"\u001b[39m\n\u001b[0;32m   1957\u001b[0m     )\n\u001b[1;32m-> 1958\u001b[0m result \u001b[38;5;241m=\u001b[39m meth(skipna\u001b[38;5;241m=\u001b[39mskipna, \u001b[38;5;241m*\u001b[39m\u001b[38;5;241m*\u001b[39mkwargs)\n\u001b[0;32m   1959\u001b[0m \u001b[38;5;28;01mif\u001b[39;00m keepdims:\n\u001b[0;32m   1960\u001b[0m     result \u001b[38;5;241m=\u001b[39m np\u001b[38;5;241m.\u001b[39marray([result])\n",
      "File \u001b[1;32mc:\\Users\\4013425\\AppData\\Local\\anaconda3\\Lib\\site-packages\\pandas\\core\\arrays\\datetimelike.py:179\u001b[0m, in \u001b[0;36m_period_dispatch.<locals>.new_meth\u001b[1;34m(self, *args, **kwargs)\u001b[0m\n\u001b[0;32m    176\u001b[0m \u001b[38;5;129m@wraps\u001b[39m(meth)\n\u001b[0;32m    177\u001b[0m \u001b[38;5;28;01mdef\u001b[39;00m \u001b[38;5;21mnew_meth\u001b[39m(\u001b[38;5;28mself\u001b[39m, \u001b[38;5;241m*\u001b[39margs, \u001b[38;5;241m*\u001b[39m\u001b[38;5;241m*\u001b[39mkwargs):\n\u001b[0;32m    178\u001b[0m     \u001b[38;5;28;01mif\u001b[39;00m \u001b[38;5;129;01mnot\u001b[39;00m \u001b[38;5;28misinstance\u001b[39m(\u001b[38;5;28mself\u001b[39m\u001b[38;5;241m.\u001b[39mdtype, PeriodDtype):\n\u001b[1;32m--> 179\u001b[0m         \u001b[38;5;28;01mreturn\u001b[39;00m meth(\u001b[38;5;28mself\u001b[39m, \u001b[38;5;241m*\u001b[39margs, \u001b[38;5;241m*\u001b[39m\u001b[38;5;241m*\u001b[39mkwargs)\n\u001b[0;32m    181\u001b[0m     arr \u001b[38;5;241m=\u001b[39m \u001b[38;5;28mself\u001b[39m\u001b[38;5;241m.\u001b[39mview(\u001b[38;5;124m\"\u001b[39m\u001b[38;5;124mM8[ns]\u001b[39m\u001b[38;5;124m\"\u001b[39m)\n\u001b[0;32m    182\u001b[0m     result \u001b[38;5;241m=\u001b[39m meth(arr, \u001b[38;5;241m*\u001b[39margs, \u001b[38;5;241m*\u001b[39m\u001b[38;5;241m*\u001b[39mkwargs)\n",
      "File \u001b[1;32mc:\\Users\\4013425\\AppData\\Local\\anaconda3\\Lib\\site-packages\\pandas\\core\\arrays\\datetimelike.py:1574\u001b[0m, in \u001b[0;36mDatetimeLikeArrayMixin.max\u001b[1;34m(self, axis, skipna, **kwargs)\u001b[0m\n\u001b[0;32m   1571\u001b[0m nv\u001b[38;5;241m.\u001b[39mvalidate_max((), kwargs)\n\u001b[0;32m   1572\u001b[0m nv\u001b[38;5;241m.\u001b[39mvalidate_minmax_axis(axis, \u001b[38;5;28mself\u001b[39m\u001b[38;5;241m.\u001b[39mndim)\n\u001b[1;32m-> 1574\u001b[0m result \u001b[38;5;241m=\u001b[39m nanops\u001b[38;5;241m.\u001b[39mnanmax(\u001b[38;5;28mself\u001b[39m\u001b[38;5;241m.\u001b[39m_ndarray, axis\u001b[38;5;241m=\u001b[39maxis, skipna\u001b[38;5;241m=\u001b[39mskipna)\n\u001b[0;32m   1575\u001b[0m \u001b[38;5;28;01mreturn\u001b[39;00m \u001b[38;5;28mself\u001b[39m\u001b[38;5;241m.\u001b[39m_wrap_reduction_result(axis, result)\n",
      "File \u001b[1;32mc:\\Users\\4013425\\AppData\\Local\\anaconda3\\Lib\\site-packages\\pandas\\core\\nanops.py:147\u001b[0m, in \u001b[0;36mbottleneck_switch.__call__.<locals>.f\u001b[1;34m(values, axis, skipna, **kwds)\u001b[0m\n\u001b[0;32m    145\u001b[0m         result \u001b[38;5;241m=\u001b[39m alt(values, axis\u001b[38;5;241m=\u001b[39maxis, skipna\u001b[38;5;241m=\u001b[39mskipna, \u001b[38;5;241m*\u001b[39m\u001b[38;5;241m*\u001b[39mkwds)\n\u001b[0;32m    146\u001b[0m \u001b[38;5;28;01melse\u001b[39;00m:\n\u001b[1;32m--> 147\u001b[0m     result \u001b[38;5;241m=\u001b[39m alt(values, axis\u001b[38;5;241m=\u001b[39maxis, skipna\u001b[38;5;241m=\u001b[39mskipna, \u001b[38;5;241m*\u001b[39m\u001b[38;5;241m*\u001b[39mkwds)\n\u001b[0;32m    149\u001b[0m \u001b[38;5;28;01mreturn\u001b[39;00m result\n",
      "File \u001b[1;32mc:\\Users\\4013425\\AppData\\Local\\anaconda3\\Lib\\site-packages\\pandas\\core\\nanops.py:402\u001b[0m, in \u001b[0;36m_datetimelike_compat.<locals>.new_func\u001b[1;34m(values, axis, skipna, mask, **kwargs)\u001b[0m\n\u001b[0;32m    400\u001b[0m datetimelike \u001b[38;5;241m=\u001b[39m values\u001b[38;5;241m.\u001b[39mdtype\u001b[38;5;241m.\u001b[39mkind \u001b[38;5;129;01min\u001b[39;00m \u001b[38;5;124m\"\u001b[39m\u001b[38;5;124mmM\u001b[39m\u001b[38;5;124m\"\u001b[39m\n\u001b[0;32m    401\u001b[0m \u001b[38;5;28;01mif\u001b[39;00m datetimelike \u001b[38;5;129;01mand\u001b[39;00m mask \u001b[38;5;129;01mis\u001b[39;00m \u001b[38;5;28;01mNone\u001b[39;00m:\n\u001b[1;32m--> 402\u001b[0m     mask \u001b[38;5;241m=\u001b[39m isna(values)\n\u001b[0;32m    404\u001b[0m result \u001b[38;5;241m=\u001b[39m func(values, axis\u001b[38;5;241m=\u001b[39maxis, skipna\u001b[38;5;241m=\u001b[39mskipna, mask\u001b[38;5;241m=\u001b[39mmask, \u001b[38;5;241m*\u001b[39m\u001b[38;5;241m*\u001b[39mkwargs)\n\u001b[0;32m    406\u001b[0m \u001b[38;5;28;01mif\u001b[39;00m datetimelike:\n",
      "File \u001b[1;32mc:\\Users\\4013425\\AppData\\Local\\anaconda3\\Lib\\site-packages\\pandas\\core\\dtypes\\missing.py:178\u001b[0m, in \u001b[0;36misna\u001b[1;34m(obj)\u001b[0m\n\u001b[0;32m    101\u001b[0m \u001b[38;5;28;01mdef\u001b[39;00m \u001b[38;5;21misna\u001b[39m(obj: \u001b[38;5;28mobject\u001b[39m) \u001b[38;5;241m-\u001b[39m\u001b[38;5;241m>\u001b[39m \u001b[38;5;28mbool\u001b[39m \u001b[38;5;241m|\u001b[39m npt\u001b[38;5;241m.\u001b[39mNDArray[np\u001b[38;5;241m.\u001b[39mbool_] \u001b[38;5;241m|\u001b[39m NDFrame:\n\u001b[0;32m    102\u001b[0m \u001b[38;5;250m    \u001b[39m\u001b[38;5;124;03m\"\"\"\u001b[39;00m\n\u001b[0;32m    103\u001b[0m \u001b[38;5;124;03m    Detect missing values for an array-like object.\u001b[39;00m\n\u001b[0;32m    104\u001b[0m \n\u001b[1;32m   (...)\u001b[0m\n\u001b[0;32m    176\u001b[0m \u001b[38;5;124;03m    Name: 1, dtype: bool\u001b[39;00m\n\u001b[0;32m    177\u001b[0m \u001b[38;5;124;03m    \"\"\"\u001b[39;00m\n\u001b[1;32m--> 178\u001b[0m     \u001b[38;5;28;01mreturn\u001b[39;00m _isna(obj)\n",
      "File \u001b[1;32mc:\\Users\\4013425\\AppData\\Local\\anaconda3\\Lib\\site-packages\\pandas\\core\\dtypes\\missing.py:184\u001b[0m, in \u001b[0;36m_isna\u001b[1;34m(obj, inf_as_na)\u001b[0m\n\u001b[0;32m    178\u001b[0m     \u001b[38;5;28;01mreturn\u001b[39;00m _isna(obj)\n\u001b[0;32m    181\u001b[0m isnull \u001b[38;5;241m=\u001b[39m isna\n\u001b[1;32m--> 184\u001b[0m \u001b[38;5;28;01mdef\u001b[39;00m \u001b[38;5;21m_isna\u001b[39m(obj, inf_as_na: \u001b[38;5;28mbool\u001b[39m \u001b[38;5;241m=\u001b[39m \u001b[38;5;28;01mFalse\u001b[39;00m):\n\u001b[0;32m    185\u001b[0m \u001b[38;5;250m    \u001b[39m\u001b[38;5;124;03m\"\"\"\u001b[39;00m\n\u001b[0;32m    186\u001b[0m \u001b[38;5;124;03m    Detect missing values, treating None, NaN or NA as null. Infinite\u001b[39;00m\n\u001b[0;32m    187\u001b[0m \u001b[38;5;124;03m    values will also be treated as null if inf_as_na is True.\u001b[39;00m\n\u001b[1;32m   (...)\u001b[0m\n\u001b[0;32m    198\u001b[0m \u001b[38;5;124;03m    boolean ndarray or boolean\u001b[39;00m\n\u001b[0;32m    199\u001b[0m \u001b[38;5;124;03m    \"\"\"\u001b[39;00m\n\u001b[0;32m    200\u001b[0m     \u001b[38;5;28;01mif\u001b[39;00m is_scalar(obj):\n",
      "\u001b[1;31mKeyboardInterrupt\u001b[0m: "
     ]
    }
   ],
   "source": [
    "from helperfunctions.capacity_model import capacity_tariffs\n",
    "capacity_prep_dict=pd.read_pickle('results/optimal_capacities_capacity_tariff.pkl')\n",
    "for tariff_value in [1,25,50,75,100]:\n",
    "    for dynamic_retail_prices_considered in [True,False]:\n",
    "        capacity_total=pd.DataFrame(0,index=timesteplist,columns=charging_session_data['Charging station ID'].unique())\n",
    "        for CS in charging_session_data['Charging station ID'].unique():\n",
    "            charging_session_data_CS=charging_session_data[charging_session_data['Charging station ID']==CS]\n",
    "            for month in range(1,13):\n",
    "                initial_peak=0\n",
    "                for prev_month in [month-1,month-2,month-3]:\n",
    "                    if dynamic_retail_prices_considered==True:\n",
    "                        try:\n",
    "                            initial_peak+=capacity_prep_dict[CS+'_'+str(tariff_value)+'_dynamic'][prev_month]/3\n",
    "                        except:\n",
    "                            initial_peak+=10/3\n",
    "                    else:\n",
    "                        try:\n",
    "                            initial_peak+=capacity_prep_dict[CS+'_'+str(tariff_value)+'_fixed'][prev_month]/3\n",
    "                        except:\n",
    "                            initial_peak+=10/3\n",
    "                try:\n",
    "                    timesteplist_month=pd.date_range(start=datetime.datetime(2022,month,1,tzinfo=pytz.timezone('CET')),end=datetime.datetime(2022,month+1,1,tzinfo=pytz.timezone('CET'))+datetime.timedelta(days=2),freq='15Min',tz='CET')\n",
    "                except:\n",
    "                    timesteplist_month=pd.date_range(start=datetime.datetime(2022,month,1,tzinfo=pytz.timezone('CET')),end=datetime.datetime(2023,1,1,tzinfo=pytz.timezone('CET'))+datetime.timedelta(days=2),freq='15Min',tz='CET')\n",
    "                charging_session_data_CS_month=charging_session_data_CS[charging_session_data_CS['Arrival time'].dt.month==month]\n",
    "                results_CS_month=capacity_tariffs(charging_session_data_CS_month, timesteplist_month, CS, day_ahead_prices, dynamic_retail_prices_considered, tariff_value,initial_peak)\n",
    "                for t in timesteplist_month:\n",
    "                    capacity_total.at[t,CS]+=results_CS_month.loc[t,CS]\n",
    "\n",
    "                if dynamic_retail_prices_considered==True:\n",
    "                    print('Capacity tariff profiles modelled for '+CS+' for tariff value of '+str(tariff_value)+' €/kW for month '+str(month)+' and for dynamic retail prices')\n",
    "                else:\n",
    "                    print('Capacity tariff profiles modelled for '+CS+' for tariff value of '+str(tariff_value)+' €/kW for month '+str(month)+' and for fixed retail prices')\n",
    "\n"
   ]
  },
  {
   "cell_type": "code",
   "execution_count": 2,
   "id": "dfce0ef1",
   "metadata": {},
   "outputs": [
    {
     "name": "stdout",
     "output_type": "stream",
     "text": [
      "Set parameter Username\n",
      "Set parameter LicenseID to value 2656772\n",
      "Academic license - for non-commercial use only - expires 2026-04-25\n",
      "Capacity-subscriptionf profiles modelled for Charging station 1 for subscribed capacity of 4 kW for dynamic retail prices\n",
      "Capacity-subscriptionf profiles modelled for Charging station 1 for subscribed capacity of 8 kW for dynamic retail prices\n",
      "Capacity-subscriptionf profiles modelled for Charging station 1 for subscribed capacity of 12 kW for dynamic retail prices\n",
      "Capacity-subscriptionf profiles modelled for Charging station 2 for subscribed capacity of 4 kW for dynamic retail prices\n",
      "Capacity-subscriptionf profiles modelled for Charging station 2 for subscribed capacity of 8 kW for dynamic retail prices\n",
      "Capacity-subscriptionf profiles modelled for Charging station 2 for subscribed capacity of 12 kW for dynamic retail prices\n",
      "Capacity-subscriptionf profiles modelled for Charging station 1 for subscribed capacity of 4 kW for fixed retail prices\n",
      "Capacity-subscriptionf profiles modelled for Charging station 1 for subscribed capacity of 8 kW for fixed retail prices\n",
      "Capacity-subscriptionf profiles modelled for Charging station 1 for subscribed capacity of 12 kW for fixed retail prices\n",
      "Capacity-subscriptionf profiles modelled for Charging station 2 for subscribed capacity of 4 kW for fixed retail prices\n",
      "Capacity-subscriptionf profiles modelled for Charging station 2 for subscribed capacity of 8 kW for fixed retail prices\n",
      "Capacity-subscriptionf profiles modelled for Charging station 2 for subscribed capacity of 12 kW for fixed retail prices\n"
     ]
    }
   ],
   "source": [
    "from helperfunctions.capacity_subscription_model import capacity_subscription\n",
    "exceedance_fee=0.3\n",
    "for dynamic_retail_prices_considered in [True,False]:\n",
    "\n",
    "    capacity_subscription_total=pd.DataFrame(0,index=timesteplist,columns=charging_session_data['Charging station ID'].unique())\n",
    "    subscribed_capacity_list=[4,8,12]\n",
    "    for CS in charging_session_data['Charging station ID'].unique():\n",
    "        capacity_subscription_CS=pd.DataFrame(0,index=timesteplist,columns=subscribed_capacity_list)\n",
    "        for subscribed_capacity in subscribed_capacity_list:\n",
    "            resultdf_CS_subscribed_capacity=capacity_subscription(charging_session_data, timesteplist, CS, day_ahead_prices, dynamic_retail_prices_considered, exceedance_fee, subscribed_capacity)\n",
    "            capacity_subscription_CS[subscribed_capacity]=resultdf_CS_subscribed_capacity[CS].copy()\n",
    "            if dynamic_retail_prices_considered==True:\n",
    "                print('Capacity-subscription profiles modelled for '+CS+' for subscribed capacity of '+str(subscribed_capacity)+' kW for dynamic retail prices')\n",
    "            else:\n",
    "                print('Capacity-subscription profiles modelled for '+CS+' for subscribed capacity of '+str(subscribed_capacity)+' kW for fixed retail prices')\n",
    "                \n",
    "            \n",
    "\n",
    "\n",
    "        \n"
   ]
  }
 ],
 "metadata": {
  "kernelspec": {
   "display_name": "base",
   "language": "python",
   "name": "python3"
  },
  "language_info": {
   "codemirror_mode": {
    "name": "ipython",
    "version": 3
   },
   "file_extension": ".py",
   "mimetype": "text/x-python",
   "name": "python",
   "nbconvert_exporter": "python",
   "pygments_lexer": "ipython3",
   "version": "3.12.7"
  }
 },
 "nbformat": 4,
 "nbformat_minor": 5
}
