{
 "cells": [
  {
   "cell_type": "code",
   "execution_count": 1,
   "id": "3c6d6bf5",
   "metadata": {},
   "outputs": [],
   "source": [
    "import pandas as pd\n",
    "import datetime\n",
    "import pytz\n",
    "import numpy as np\n",
    "charging_session_data=pd.read_pickle('data/charging_session_data_sample.pkl')\n",
    "start_date=datetime.datetime(2022,1,1,tzinfo=pytz.timezone('CET'))\n",
    "end_date=datetime.datetime(2023,1,1,tzinfo=pytz.timezone('CET'))\n",
    "timesteplist=pd.date_range(start=start_date,end=end_date+datetime.timedelta(days=2),freq='15Min',tz='CET')\n",
    "day_ahead_prices=pd.read_pickle('data/day_ahead_market_prices_NL.pkl')"
   ]
  },
  {
   "cell_type": "code",
   "execution_count": null,
   "id": "c2ff0d2e",
   "metadata": {},
   "outputs": [
    {
     "name": "stdout",
     "output_type": "stream",
     "text": [
      "Uncontrolled charging profiles for all charging stations modelled\n"
     ]
    }
   ],
   "source": [
    "from helperfunctions.uncontrolled_charging_model import uncontrolled_charging\n",
    "\n",
    "uncontrolled_charging_total=uncontrolled_charging(charging_session_data,timesteplist)\n",
    "print('Uncontrolled charging profiles for all charging stations modelled')"
   ]
  },
  {
   "cell_type": "code",
   "execution_count": null,
   "id": "f9eff474",
   "metadata": {},
   "outputs": [
    {
     "name": "stdout",
     "output_type": "stream",
     "text": [
      "Set parameter Username\n",
      "Set parameter LicenseID to value 2656772\n",
      "Academic license - for non-commercial use only - expires 2026-04-25\n",
      "Optimal dynamic retail price charging profile for Charging station 1 modelled\n",
      "Optimal dynamic retail price charging profile for Charging station 2 modelled\n"
     ]
    }
   ],
   "source": [
    "from helperfunctions.volumetric_ToU_model import volumetric_ToU\n",
    "\n",
    "grid_tariff_df=pd.DataFrame(0,index=timesteplist,columns=['Grid tariff (€/kWh)'])\n",
    "DA_charging_total=pd.DataFrame(0,index=timesteplist,columns=charging_session_data['Charging station ID'].unique())\n",
    "for CS in charging_session_data['Charging station ID'].unique():\n",
    "    charging_session_data_CS=charging_session_data[charging_session_data['Charging station ID']==CS]\n",
    "    DA_charging_total[CS]=volumetric_ToU(charging_session_data_CS,timesteplist,CS,grid_tariff_df,day_ahead_prices,True)\n",
    "    print('Optimal dynamic retail price charging profile for '+CS+' modelled')"
   ]
  },
  {
   "cell_type": "code",
   "execution_count": null,
   "id": "76b4abe0",
   "metadata": {},
   "outputs": [
    {
     "name": "stdout",
     "output_type": "stream",
     "text": [
      "Volumetric ToU profiles modelled for low tariff value of 0.01 €/kWh and for dynamic retail prices\n",
      "Volumetric ToU profiles modelled for low tariff value of 0.01 €/kWh and for fixed retail prices\n",
      "Volumetric ToU profiles modelled for low tariff value of 0.02 €/kWh and for dynamic retail prices\n",
      "Volumetric ToU profiles modelled for low tariff value of 0.02 €/kWh and for fixed retail prices\n",
      "Volumetric ToU profiles modelled for low tariff value of 0.03 €/kWh and for dynamic retail prices\n",
      "Volumetric ToU profiles modelled for low tariff value of 0.03 €/kWh and for fixed retail prices\n"
     ]
    }
   ],
   "source": [
    "for low_tariff_value in [0.01,0.02,0.03]:\n",
    "    medium_tariff_value=low_tariff_value*2\n",
    "    high_tariff_value=low_tariff_value*3\n",
    "\n",
    "    grid_tariff_df=pd.DataFrame(0,index=timesteplist,columns=['Grid tariff (€/kWh)'])\n",
    "    high_tariff_hours=[18,19,20,21]\n",
    "    medium_tariff_hours=[22,23,0,16,17]\n",
    "    low_tariff_hours=list(range(1,16))\n",
    "    grid_tariff_df['Grid tariff (€/kWh)']=np.where(grid_tariff_df.index.hour.isin(high_tariff_hours),high_tariff_value,grid_tariff_df['Grid tariff (€/kWh)'])\n",
    "    grid_tariff_df['Grid tariff (€/kWh)']=np.where(grid_tariff_df.index.hour.isin(medium_tariff_hours),medium_tariff_value,grid_tariff_df['Grid tariff (€/kWh)'])\n",
    "    grid_tariff_df['Grid tariff (€/kWh)']=np.where(grid_tariff_df.index.hour.isin(low_tariff_hours),low_tariff_value,grid_tariff_df['Grid tariff (€/kWh)'])\n",
    "    for dynamic_retail_prices_considered in [True, False]:\n",
    "        volumetric_ToU_total=pd.DataFrame(0,index=timesteplist,columns=charging_session_data['Charging station ID'].unique())\n",
    "        for CS in charging_session_data['Charging station ID'].unique():\n",
    "            charging_session_data_CS=charging_session_data[charging_session_data['Charging station ID']==CS]\n",
    "            volumetric_ToU_total[CS]=volumetric_ToU(charging_session_data_CS,timesteplist,CS,grid_tariff_df,day_ahead_prices,dynamic_retail_prices_considered)\n",
    "        if dynamic_retail_prices_considered==True:\n",
    "            print('Volumetric ToU profiles modelled for low tariff value of '+str(low_tariff_value)+' €/kWh and for dynamic retail prices')\n",
    "        else:\n",
    "            print('Volumetric ToU profiles modelled for low tariff value of '+str(low_tariff_value)+' €/kWh and for fixed retail prices')"
   ]
  },
  {
   "cell_type": "code",
   "execution_count": null,
   "id": "453e1817",
   "metadata": {},
   "outputs": [
    {
     "name": "stdout",
     "output_type": "stream",
     "text": [
      "Segmented volumetric ToU profiles modelled for low tariff value of 0.01 €/kWh and for dynamic retail prices\n",
      "Segmented volumetric ToU profiles modelled for low tariff value of 0.01 €/kWh and for fixed retail prices\n",
      "Segmented volumetric ToU profiles modelled for low tariff value of 0.02 €/kWh and for dynamic retail prices\n",
      "Segmented volumetric ToU profiles modelled for low tariff value of 0.02 €/kWh and for fixed retail prices\n",
      "Segmented volumetric ToU profiles modelled for low tariff value of 0.03 €/kWh and for dynamic retail prices\n",
      "Segmented volumetric ToU profiles modelled for low tariff value of 0.03 €/kWh and for fixed retail prices\n"
     ]
    }
   ],
   "source": [
    "from helperfunctions.segmented_volumetric_ToU_model import segmented_volumetric_ToU\n",
    "\n",
    "\n",
    "for low_tariff_value in [0.01,0.02,0.03]:\n",
    "    medium_tariff_value=low_tariff_value*2\n",
    "    high_tariff_value=low_tariff_value*3\n",
    "\n",
    "    grid_tariff_df=pd.DataFrame(0,index=timesteplist,columns=['Grid tariff (€/kWh)'])\n",
    "    high_tariff_hours=[18,19,20,21]\n",
    "    medium_tariff_hours=[22,23,0,16,17]\n",
    "    low_tariff_hours=list(range(1,16))\n",
    "    tariff_threshold_df=pd.DataFrame(index=timesteplist,columns=['Threshold_1','Threshold_2'])\n",
    "    tariff_threshold_df['Threshold_1']=np.where(tariff_threshold_df.index.hour.isin(low_tariff_hours),4,0)\n",
    "    tariff_threshold_df['Threshold_2']=np.where(tariff_threshold_df.index.hour.isin(high_tariff_hours),0,4)  \n",
    "    for dynamic_retail_prices_considered in [True, False]:\n",
    "        segmented_volumetric_ToU_total=pd.DataFrame(0,index=timesteplist,columns=charging_session_data['Charging station ID'].unique())\n",
    "        for CS in charging_session_data['Charging station ID'].unique():\n",
    "            charging_session_data_CS=charging_session_data[charging_session_data['Charging station ID']==CS]\n",
    "            segmented_volumetric_ToU_total[CS]=segmented_volumetric_ToU(charging_session_data_CS,timesteplist,CS,tariff_threshold_df,day_ahead_prices,dynamic_retail_prices_considered,low_tariff_value,medium_tariff_value,high_tariff_value)\n",
    "        if dynamic_retail_prices_considered==True:\n",
    "            print('Segmented volumetric ToU profiles modelled for low tariff value of '+str(low_tariff_value)+' €/kWh and for dynamic retail prices')\n",
    "        else:\n",
    "            print('Segmented volumetric ToU profiles modelled for low tariff value of '+str(low_tariff_value)+' €/kWh and for fixed retail prices')"
   ]
  },
  {
   "cell_type": "code",
   "execution_count": null,
   "id": "0cdc89e4",
   "metadata": {},
   "outputs": [
    {
     "name": "stdout",
     "output_type": "stream",
     "text": [
      "Set parameter Username\n",
      "Set parameter LicenseID to value 2656772\n",
      "Academic license - for non-commercial use only - expires 2026-04-25\n",
      "Optimal capacities determined for Charging station 1 for tariff value of 1 €/kW/year and for dynamic retail prices\n",
      "Optimal capacities determined for Charging station 2 for tariff value of 1 €/kW/year and for dynamic retail prices\n",
      "Optimal capacities determined for Charging station 1 for tariff value of 1 €/kW/year and for fixed retail prices\n",
      "Optimal capacities determined for Charging station 2 for tariff value of 1 €/kW/year and for fixed retail prices\n",
      "Optimal capacities determined for Charging station 1 for tariff value of 25 €/kW/year and for dynamic retail prices\n",
      "Optimal capacities determined for Charging station 2 for tariff value of 25 €/kW/year and for dynamic retail prices\n",
      "Optimal capacities determined for Charging station 1 for tariff value of 25 €/kW/year and for fixed retail prices\n",
      "Optimal capacities determined for Charging station 2 for tariff value of 25 €/kW/year and for fixed retail prices\n",
      "Optimal capacities determined for Charging station 1 for tariff value of 50 €/kW/year and for dynamic retail prices\n",
      "Optimal capacities determined for Charging station 2 for tariff value of 50 €/kW/year and for dynamic retail prices\n",
      "Optimal capacities determined for Charging station 1 for tariff value of 50 €/kW/year and for fixed retail prices\n",
      "Optimal capacities determined for Charging station 2 for tariff value of 50 €/kW/year and for fixed retail prices\n",
      "Optimal capacities determined for Charging station 1 for tariff value of 75 €/kW/year and for dynamic retail prices\n",
      "Optimal capacities determined for Charging station 2 for tariff value of 75 €/kW/year and for dynamic retail prices\n",
      "Optimal capacities determined for Charging station 1 for tariff value of 75 €/kW/year and for fixed retail prices\n",
      "Optimal capacities determined for Charging station 2 for tariff value of 75 €/kW/year and for fixed retail prices\n",
      "Optimal capacities determined for Charging station 1 for tariff value of 100 €/kW/year and for dynamic retail prices\n",
      "Optimal capacities determined for Charging station 2 for tariff value of 100 €/kW/year and for dynamic retail prices\n",
      "Optimal capacities determined for Charging station 1 for tariff value of 100 €/kW/year and for fixed retail prices\n",
      "Optimal capacities determined for Charging station 2 for tariff value of 100 €/kW/year and for fixed retail prices\n"
     ]
    }
   ],
   "source": [
    "from helperfunctions.capacity_preparation_model import capacity_tariffs_preparation\n",
    "capacity_prep_dict={}\n",
    "for tariff_value in [1,25,50,75,100]:\n",
    "    for dynamic_retail_prices_considered in [True,False]:\n",
    "        for CS in charging_session_data['Charging station ID'].unique():\n",
    "            charging_session_data_CS=charging_session_data[charging_session_data['Charging station ID']==CS]\n",
    "            if dynamic_retail_prices_considered==True:\n",
    "                capacity_prep_dict[CS+'_'+str(tariff_value)+'_dynamic']=capacity_tariffs_preparation(charging_session_data_CS,timesteplist,day_ahead_prices,dynamic_retail_prices_considered,tariff_value)\n",
    "                print('Optimal capacities determined for '+CS+' for tariff value of '+str(tariff_value)+' €/kW/year and for dynamic retail prices')\n",
    "            else:\n",
    "                capacity_prep_dict[CS+'_'+str(tariff_value)+'_fixed']=capacity_tariffs_preparation(charging_session_data_CS,timesteplist,day_ahead_prices,dynamic_retail_prices_considered,tariff_value)\n",
    "                print('Optimal capacities determined for '+CS+' for tariff value of '+str(tariff_value)+' €/kW/year and for fixed retail prices')\n",
    "pd.to_pickle(capacity_prep_dict,'results/optimal_capacities_capacity_tariff.pkl')"
   ]
  },
  {
   "cell_type": "code",
   "execution_count": null,
   "id": "5eecb90a",
   "metadata": {},
   "outputs": [
    {
     "name": "stdout",
     "output_type": "stream",
     "text": [
      "Capacity tariff profiles modelled for tariff value of 1 €/kW for month 1 and for dynamic retail prices\n",
      "Capacity tariff profiles modelled for tariff value of 1 €/kW for month 2 and for dynamic retail prices\n",
      "Capacity tariff profiles modelled for tariff value of 1 €/kW for month 3 and for dynamic retail prices\n",
      "Capacity tariff profiles modelled for tariff value of 1 €/kW for month 4 and for dynamic retail prices\n",
      "Capacity tariff profiles modelled for tariff value of 1 €/kW for month 5 and for dynamic retail prices\n",
      "Capacity tariff profiles modelled for tariff value of 1 €/kW for month 6 and for dynamic retail prices\n",
      "Capacity tariff profiles modelled for tariff value of 1 €/kW for month 7 and for dynamic retail prices\n",
      "Capacity tariff profiles modelled for tariff value of 1 €/kW for month 8 and for dynamic retail prices\n",
      "Capacity tariff profiles modelled for tariff value of 1 €/kW for month 9 and for dynamic retail prices\n",
      "Capacity tariff profiles modelled for tariff value of 1 €/kW for month 10 and for dynamic retail prices\n",
      "Capacity tariff profiles modelled for tariff value of 1 €/kW for month 11 and for dynamic retail prices\n",
      "Capacity tariff profiles modelled for tariff value of 1 €/kW for month 12 and for dynamic retail prices\n",
      "Capacity tariff profiles modelled for tariff value of 1 €/kW for month 1 and for dynamic retail prices\n",
      "Capacity tariff profiles modelled for tariff value of 1 €/kW for month 2 and for dynamic retail prices\n",
      "Capacity tariff profiles modelled for tariff value of 1 €/kW for month 3 and for dynamic retail prices\n",
      "Capacity tariff profiles modelled for tariff value of 1 €/kW for month 4 and for dynamic retail prices\n",
      "Capacity tariff profiles modelled for tariff value of 1 €/kW for month 5 and for dynamic retail prices\n",
      "Capacity tariff profiles modelled for tariff value of 1 €/kW for month 6 and for dynamic retail prices\n"
     ]
    }
   ],
   "source": [
    "from helperfunctions.capacity_model import capacity_tariffs\n",
    "capacity_prep_dict=pd.read_pickle('results/optimal_capacities_capacity_tariff.pkl')\n",
    "for tariff_value in [1,25,50,75,100]:\n",
    "    for dynamic_retail_prices_considered in [True,False]:\n",
    "        capacity_total=pd.DataFrame(0,index=timesteplist,columns=charging_session_data['Charging station ID'].unique())\n",
    "        for CS in charging_session_data['Charging station ID'].unique():\n",
    "            charging_session_data_CS=charging_session_data[charging_session_data['Charging station ID']==CS]\n",
    "            for month in range(1,13):\n",
    "                initial_peak=0\n",
    "                for prev_month in [month-1,month-2,month-3]:\n",
    "                    if dynamic_retail_prices_considered==True:\n",
    "                        try:\n",
    "                            initial_peak+=capacity_prep_dict[CS+'_'+str(tariff_value)+'_dynamic'][prev_month]/3\n",
    "                        except:\n",
    "                            initial_peak+=10/3\n",
    "                    else:\n",
    "                        try:\n",
    "                            initial_peak+=capacity_prep_dict[CS+'_'+str(tariff_value)+'_fixed'][prev_month]/3\n",
    "                        except:\n",
    "                            initial_peak+=10/3\n",
    "                try:\n",
    "                    timesteplist_month=pd.date_range(start=datetime.datetime(2022,month,1,tzinfo=pytz.timezone('CET')),end=datetime.datetime(2022,month+1,1,tzinfo=pytz.timezone('CET'))+datetime.timedelta(days=2),freq='15Min',tz='CET')\n",
    "                except:\n",
    "                    timesteplist_month=pd.date_range(start=datetime.datetime(2022,month,1,tzinfo=pytz.timezone('CET')),end=datetime.datetime(2023,1,1,tzinfo=pytz.timezone('CET'))+datetime.timedelta(days=2),freq='15Min',tz='CET')\n",
    "                charging_session_data_CS_month=charging_session_data_CS[charging_session_data_CS['Arrival time'].dt.month==month]\n",
    "                results_CS_month=capacity_tariffs(charging_session_data_CS_month, timesteplist_month, CS, day_ahead_prices, dynamic_retail_prices_considered, tariff_value,initial_peak)\n",
    "                for t in timesteplist_month:\n",
    "                    capacity_total.at[t,CS]+=results_CS_month.loc[t,CS]\n",
    "\n",
    "                if dynamic_retail_prices_considered==True:\n",
    "                    print('Capacity tariff profiles modelled for '+CS+' for tariff value of '+str(tariff_value)+' €/kW for month '+str(month)+' and for dynamic retail prices')\n",
    "                else:\n",
    "                    print('Capacity tariff profiles modelled for '+CS+' for tariff value of '+str(tariff_value)+' €/kW for month '+str(month)+' and for fixed retail prices')\n",
    "\n"
   ]
  },
  {
   "cell_type": "code",
   "execution_count": null,
   "id": "dfce0ef1",
   "metadata": {},
   "outputs": [],
   "source": [
    "from helperfunctions.capacity_subscription_model import capacity_subscription\n",
    "exceedance_fee=0.3\n",
    "for dynamic_retail_prices_considered in [True,False]:\n",
    "\n",
    "    capacity_subscription_total=pd.DataFrame(0,index=timesteplist,columns=charging_session_data['Charging station ID'].unique())\n",
    "    subscribed_capacity_list=[4,8,12]\n",
    "    for CS in charging_session_data['Charging station ID'].unique():\n",
    "        capacity_subscription_CS=pd.DataFrame(0,index=timesteplist,columns=subscribed_capacity_list)\n",
    "        for subscribed_capacity in subscribed_capacity_list:\n",
    "            resultdf_CS_subscribed_capacity=capacity_subscription(charging_session_data, timesteplist, CS, day_ahead_prices, dynamic_retail_prices_considered, exceedance_fee, subscribed_capacity)\n",
    "            capacity_subscription_CS[subscribed_capacity]=resultdf_CS_subscribed_capacity[CS].copy()\n",
    "            if dynamic_retail_prices_considered==True:\n",
    "                print('Capacity-subscriptionf profiles modelled for '+CS+' for subscribed capacity of '+str(subscribed_capacity)+' kW for dynamic retail prices')\n",
    "            else:\n",
    "                print('Capacity-subscriptionf profiles modelled for '+CS+' for subscribed capacity of '+str(subscribed_capacity)+' kW for fixed retail prices')\n",
    "                \n",
    "            \n",
    "\n",
    "\n",
    "        \n"
   ]
  }
 ],
 "metadata": {
  "kernelspec": {
   "display_name": "base",
   "language": "python",
   "name": "python3"
  },
  "language_info": {
   "codemirror_mode": {
    "name": "ipython",
    "version": 3
   },
   "file_extension": ".py",
   "mimetype": "text/x-python",
   "name": "python",
   "nbconvert_exporter": "python",
   "pygments_lexer": "ipython3",
   "version": "3.12.7"
  }
 },
 "nbformat": 4,
 "nbformat_minor": 5
}
