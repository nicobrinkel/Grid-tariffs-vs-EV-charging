{
 "cells": [
  {
   "cell_type": "markdown",
   "id": "2ba7cac0",
   "metadata": {},
   "source": [
    "# Modelling charging profiles for different grid tariff structure\n",
    "\n",
    "The first step entails that we model EV charging profiles for each charging station for different grid tariff structures. We consider two scenarios for each tariff structure: a scenario with fixed retail electricity prices and a scenario with dynamic retail electricity prices. The charging profiles are determined for different tariff values for each tariff structure. In a later step, the tariff value that corresponds with cost-recovery is determined for each EV adoption rate."
   ]
  },
  {
   "cell_type": "markdown",
   "id": "16a7750b",
   "metadata": {},
   "source": [
    "## Importing packages and loading data\n",
    "As a first step, packages are imported and required datasets are loaded. In this notebook, we run the model using a sample EV charging session dataset, containing generated charging session data for two EV charging stations, as we do not have permission to share all used EV data. We also define the _'charging profile dict'_, in which the charging profiles for each tariff structure are saved.  "
   ]
  },
  {
   "cell_type": "code",
   "execution_count": 1,
   "id": "234086ed",
   "metadata": {},
   "outputs": [],
   "source": [
    "import pandas as pd\n",
    "import datetime\n",
    "import pytz\n",
    "import numpy as np\n",
    "charging_session_data=pd.read_pickle('data/charging_session_data_sample.pkl')\n",
    "start_date=datetime.datetime(2022,1,1,tzinfo=pytz.timezone('CET'))\n",
    "end_date=datetime.datetime(2023,1,1,tzinfo=pytz.timezone('CET'))\n",
    "timesteplist=pd.date_range(start=start_date,end=end_date+datetime.timedelta(days=2),freq='15Min',tz='CET')\n",
    "day_ahead_prices=pd.read_pickle('data/day_ahead_market_prices_NL.pkl')\n",
    "charging_profile_dict={}"
   ]
  },
  {
   "cell_type": "markdown",
   "id": "f864e263",
   "metadata": {},
   "source": [
    "## Fixed and flat volumetric grid tariffs\n",
    "The fixed and flat volumetric tariff structures, which provide no incentive for adjusting EV charging patterns, serve as a baseline. In this section of the notebook, we model the baseline charging patterns. Under fixed retail prices, it is assumed that uncontrolled charging is applied for EV charging, while under dynamic retail prices, charging profiles are solely optimized for retail prices. The charging models associated with these tariff structures are imported from the _helperfunctions_ folder."
   ]
  },
  {
   "cell_type": "code",
   "execution_count": 2,
   "id": "c2ff0d2e",
   "metadata": {},
   "outputs": [
    {
     "name": "stdout",
     "output_type": "stream",
     "text": [
      "Uncontrolled charging profiles for all charging stations modelled\n"
     ]
    }
   ],
   "source": [
    "from helperfunctions.uncontrolled_charging_model import uncontrolled_charging\n",
    "\n",
    "uncontrolled_charging_total=uncontrolled_charging(charging_session_data,timesteplist)\n",
    "print('Uncontrolled charging profiles for all charging stations modelled')\n",
    "charging_profile_dict['Fixed_tariffs_fixed']=uncontrolled_charging_total "
   ]
  },
  {
   "cell_type": "code",
   "execution_count": 3,
   "id": "f9eff474",
   "metadata": {},
   "outputs": [
    {
     "name": "stdout",
     "output_type": "stream",
     "text": [
      "Set parameter Username\n",
      "Set parameter LicenseID to value 2656772\n",
      "Academic license - for non-commercial use only - expires 2026-04-25\n",
      "Optimal dynamic retail price charging profile for Charging station 1 modelled\n",
      "Optimal dynamic retail price charging profile for Charging station 2 modelled\n"
     ]
    }
   ],
   "source": [
    "from helperfunctions.volumetric_ToU_model import volumetric_ToU\n",
    "\n",
    "grid_tariff_df=pd.DataFrame(0,index=timesteplist,columns=['Grid tariff (€/kWh)']) #uniform grid tariff to ensure that tariff values do not provide incentive to adjust charging profiles\n",
    "DA_charging_total=pd.DataFrame(0,index=timesteplist,columns=charging_session_data['Charging station ID'].unique())\n",
    "for CS in charging_session_data['Charging station ID'].unique():\n",
    "    charging_session_data_CS=charging_session_data[charging_session_data['Charging station ID']==CS]\n",
    "    DA_charging_total[CS]=volumetric_ToU(charging_session_data_CS,timesteplist,CS,grid_tariff_df,day_ahead_prices,True)\n",
    "    print('Optimal dynamic retail price charging profile for '+CS+' modelled')\n",
    "charging_profile_dict['Fixed_tariffs_dynamic']=DA_charging_total "
   ]
  },
  {
   "cell_type": "markdown",
   "id": "5f2f5a5c",
   "metadata": {},
   "source": [
    "## Volumetric ToU tariffs\n",
    "We model the volumetric ToU tariff structure for three considered tariff values. Please note that we considered many more tariff values for the analysis in this paper. As explained in the manuscript, we consider three tariff periods: low tariffs between 1:00 and 17:00, medium tariffs between 16:00-18:00 and 22:00-1:00 and high tariffs between 18:00-22:00. We also consider that the medium tariff value is twice low tariff value, and the high tariff value is 3 times the low tariff value. "
   ]
  },
  {
   "cell_type": "code",
   "execution_count": 4,
   "id": "76b4abe0",
   "metadata": {},
   "outputs": [
    {
     "name": "stdout",
     "output_type": "stream",
     "text": [
      "Volumetric ToU profiles modelled for low tariff value of 0.01 €/kWh and for dynamic retail prices\n",
      "Volumetric ToU profiles modelled for low tariff value of 0.01 €/kWh and for fixed retail prices\n",
      "Volumetric ToU profiles modelled for low tariff value of 0.02 €/kWh and for dynamic retail prices\n",
      "Volumetric ToU profiles modelled for low tariff value of 0.02 €/kWh and for fixed retail prices\n",
      "Volumetric ToU profiles modelled for low tariff value of 0.03 €/kWh and for dynamic retail prices\n",
      "Volumetric ToU profiles modelled for low tariff value of 0.03 €/kWh and for fixed retail prices\n"
     ]
    }
   ],
   "source": [
    "volumetric_tou_tariffvalues=[0.01,0.02,0.03]\n",
    "charging_profile_dict['Volumetric_ToU_dynamic']={}\n",
    "charging_profile_dict['Volumetric_ToU_fixed']={}\n",
    "\n",
    "for low_tariff_value in volumetric_tou_tariffvalues:\n",
    "    medium_tariff_value=low_tariff_value*2\n",
    "    high_tariff_value=low_tariff_value*3\n",
    "    grid_tariff_df=pd.DataFrame(0,index=timesteplist,columns=['Grid tariff (€/kWh)'])\n",
    "    high_tariff_hours=[18,19,20,21]\n",
    "    medium_tariff_hours=[22,23,0,16,17]\n",
    "    low_tariff_hours=list(range(1,16))\n",
    "    grid_tariff_df['Grid tariff (€/kWh)']=np.where(grid_tariff_df.index.hour.isin(high_tariff_hours),high_tariff_value,grid_tariff_df['Grid tariff (€/kWh)'])\n",
    "    grid_tariff_df['Grid tariff (€/kWh)']=np.where(grid_tariff_df.index.hour.isin(medium_tariff_hours),medium_tariff_value,grid_tariff_df['Grid tariff (€/kWh)'])\n",
    "    grid_tariff_df['Grid tariff (€/kWh)']=np.where(grid_tariff_df.index.hour.isin(low_tariff_hours),low_tariff_value,grid_tariff_df['Grid tariff (€/kWh)'])\n",
    "    for dynamic_retail_prices_considered in [True, False]:\n",
    "        volumetric_ToU_total=pd.DataFrame(0,index=timesteplist,columns=charging_session_data['Charging station ID'].unique())\n",
    "        for CS in charging_session_data['Charging station ID'].unique():\n",
    "            charging_session_data_CS=charging_session_data[charging_session_data['Charging station ID']==CS]\n",
    "            volumetric_ToU_total[CS]=volumetric_ToU(charging_session_data_CS,timesteplist,CS,grid_tariff_df,day_ahead_prices,dynamic_retail_prices_considered)\n",
    "        if dynamic_retail_prices_considered==True:\n",
    "            print('Volumetric ToU profiles modelled for low tariff value of '+str(low_tariff_value)+' €/kWh and for dynamic retail prices')\n",
    "            charging_profile_dict['Volumetric_ToU_dynamic'][str(low_tariff_value)]=volumetric_ToU_total\n",
    "        else:\n",
    "            print('Volumetric ToU profiles modelled for low tariff value of '+str(low_tariff_value)+' €/kWh and for fixed retail prices')\n",
    "            charging_profile_dict['Volumetric_ToU_fixed'][str(low_tariff_value)]=volumetric_ToU_total\n"
   ]
  },
  {
   "cell_type": "markdown",
   "id": "2e977416",
   "metadata": {},
   "source": [
    "## Segmented Volumetric ToU Tariffs\n",
    "As a next step, we model the charging profiles when considering segmented volumetric ToU tariffs. We again consider only a subset of the tariff values considered in the analysis. We consider the same number of tariffs and the hours for low, medium and high tariff hours as with volumetric ToU tariffs. The main difference is that a specific capacity is available for each tariff value at low, medium and high tariff hours. At low tariff hours, the low grid tariff applies for the first 4 kW of charging, and charging above this up to 8 kW is charged the medium grid tariff, and all extra charging the high grid tariff. At medium tariff hours, the medium grid tariff applies for the first 4 kW of charging, after which the high tariff applies for all charging above this value. At high tariff hours, the high grid tariff applies for all charging. "
   ]
  },
  {
   "cell_type": "code",
   "execution_count": 5,
   "id": "453e1817",
   "metadata": {},
   "outputs": [
    {
     "name": "stdout",
     "output_type": "stream",
     "text": [
      "Segmented volumetric ToU profiles modelled for low tariff value of 0.01 €/kWh and for dynamic retail prices\n",
      "Segmented volumetric ToU profiles modelled for low tariff value of 0.01 €/kWh and for fixed retail prices\n",
      "Segmented volumetric ToU profiles modelled for low tariff value of 0.02 €/kWh and for dynamic retail prices\n",
      "Segmented volumetric ToU profiles modelled for low tariff value of 0.02 €/kWh and for fixed retail prices\n",
      "Segmented volumetric ToU profiles modelled for low tariff value of 0.03 €/kWh and for dynamic retail prices\n",
      "Segmented volumetric ToU profiles modelled for low tariff value of 0.03 €/kWh and for fixed retail prices\n"
     ]
    }
   ],
   "source": [
    "from helperfunctions.segmented_volumetric_ToU_model import segmented_volumetric_ToU\n",
    "segmented_volumetric_tou_tariffvalues=[0.01,0.02,0.03]\n",
    "charging_profile_dict['Segmented_volumetric_ToU_dynamic']={}\n",
    "charging_profile_dict['Segmented_volumetric_ToU_fixed']={}\n",
    "\n",
    "for low_tariff_value in segmented_volumetric_tou_tariffvalues:\n",
    "    medium_tariff_value=low_tariff_value*2\n",
    "    high_tariff_value=low_tariff_value*3\n",
    "    grid_tariff_df=pd.DataFrame(0,index=timesteplist,columns=['Grid tariff (€/kWh)'])\n",
    "    high_tariff_hours=[18,19,20,21]\n",
    "    medium_tariff_hours=[22,23,0,16,17]\n",
    "    low_tariff_hours=list(range(1,16))\n",
    "    tariff_threshold_df=pd.DataFrame(index=timesteplist,columns=['Threshold_1','Threshold_2'])\n",
    "    tariff_threshold_df['Threshold_1']=np.where(tariff_threshold_df.index.hour.isin(low_tariff_hours),4,0)\n",
    "    tariff_threshold_df['Threshold_2']=np.where(tariff_threshold_df.index.hour.isin(high_tariff_hours),0,4)  \n",
    "    for dynamic_retail_prices_considered in [True, False]:\n",
    "        segmented_volumetric_ToU_total=pd.DataFrame(0,index=timesteplist,columns=charging_session_data['Charging station ID'].unique())\n",
    "        for CS in charging_session_data['Charging station ID'].unique():\n",
    "            charging_session_data_CS=charging_session_data[charging_session_data['Charging station ID']==CS]\n",
    "            segmented_volumetric_ToU_total[CS]=segmented_volumetric_ToU(charging_session_data_CS,timesteplist,CS,tariff_threshold_df,day_ahead_prices,dynamic_retail_prices_considered,low_tariff_value,medium_tariff_value,high_tariff_value)\n",
    "        if dynamic_retail_prices_considered==True:\n",
    "            print('Segmented volumetric ToU profiles modelled for low tariff value of '+str(low_tariff_value)+' €/kWh and for dynamic retail prices')\n",
    "            charging_profile_dict['Segmented_volumetric_ToU_dynamic'][str(low_tariff_value)]=segmented_volumetric_ToU_total\n",
    "        else:\n",
    "            print('Segmented volumetric ToU profiles modelled for low tariff value of '+str(low_tariff_value)+' €/kWh and for fixed retail prices')\n",
    "            charging_profile_dict['Segmented_volumetric_ToU_fixed'][str(low_tariff_value)]=segmented_volumetric_ToU_total"
   ]
  },
  {
   "cell_type": "markdown",
   "id": "902811d9",
   "metadata": {},
   "source": [
    "## Capacity tariffs\n",
    "Modelling charging profiles under capacity tariffs requires a multi-step approach. The capacity model requires an estimated optimal capacity as an input. Therefore, we first determine for each month the optimal capacity levels for each tariff level when considering perfect foresight of the number of charging sessions and their arrival and departure times. These are saved in the _capacity prep dict_ and are used as input for the second step. "
   ]
  },
  {
   "cell_type": "code",
   "execution_count": 6,
   "id": "0cdc89e4",
   "metadata": {},
   "outputs": [
    {
     "name": "stdout",
     "output_type": "stream",
     "text": [
      "Optimal capacities determined for Charging station 1 for tariff value of 25 €/kW/year and for dynamic retail prices\n",
      "Optimal capacities determined for Charging station 2 for tariff value of 25 €/kW/year and for dynamic retail prices\n",
      "Optimal capacities determined for Charging station 1 for tariff value of 25 €/kW/year and for fixed retail prices\n",
      "Optimal capacities determined for Charging station 2 for tariff value of 25 €/kW/year and for fixed retail prices\n",
      "Optimal capacities determined for Charging station 1 for tariff value of 50 €/kW/year and for dynamic retail prices\n",
      "Optimal capacities determined for Charging station 2 for tariff value of 50 €/kW/year and for dynamic retail prices\n",
      "Optimal capacities determined for Charging station 1 for tariff value of 50 €/kW/year and for fixed retail prices\n",
      "Optimal capacities determined for Charging station 2 for tariff value of 50 €/kW/year and for fixed retail prices\n",
      "Optimal capacities determined for Charging station 1 for tariff value of 75 €/kW/year and for dynamic retail prices\n",
      "Optimal capacities determined for Charging station 2 for tariff value of 75 €/kW/year and for dynamic retail prices\n",
      "Optimal capacities determined for Charging station 1 for tariff value of 75 €/kW/year and for fixed retail prices\n",
      "Optimal capacities determined for Charging station 2 for tariff value of 75 €/kW/year and for fixed retail prices\n"
     ]
    }
   ],
   "source": [
    "from helperfunctions.capacity_preparation_model import capacity_tariffs_preparation\n",
    "capacity_prep_dict={}\n",
    "capacity_tariffvalues=[25,50,75]\n",
    "for tariff_value in capacity_tariffvalues:\n",
    "    for dynamic_retail_prices_considered in [True,False]:\n",
    "        for CS in charging_session_data['Charging station ID'].unique():\n",
    "            charging_session_data_CS=charging_session_data[charging_session_data['Charging station ID']==CS]\n",
    "            if dynamic_retail_prices_considered==True:\n",
    "                capacity_prep_dict[CS+'_'+str(tariff_value)+'_dynamic']=capacity_tariffs_preparation(charging_session_data_CS,timesteplist,day_ahead_prices,dynamic_retail_prices_considered,tariff_value)\n",
    "                print('Optimal capacities determined for '+CS+' for tariff value of '+str(tariff_value)+' €/kW/year and for dynamic retail prices')\n",
    "            else:\n",
    "                capacity_prep_dict[CS+'_'+str(tariff_value)+'_fixed']=capacity_tariffs_preparation(charging_session_data_CS,timesteplist,day_ahead_prices,dynamic_retail_prices_considered,tariff_value)\n",
    "                print('Optimal capacities determined for '+CS+' for tariff value of '+str(tariff_value)+' €/kW/year and for fixed retail prices')\n",
    "pd.to_pickle(capacity_prep_dict,'results/optimal_capacities_capacity_tariff.pkl')"
   ]
  },
  {
   "cell_type": "markdown",
   "id": "485102f3",
   "metadata": {},
   "source": [
    "In the second step, we model the charging patterns for the capacity tariffs without assuming perfect foresight regarding the number and characteristics of future charging sessions, ensuring the model does not anticipate end-of-month charging peaks at the beginning of the month. This model requires an estimate of the optimal charging peak as an input. In the analysis of this work, we based this estimate for each month on the average of the optimal charging peaks of the previous three months, determined in the previous step. Note that in this sample analysis, we did not determine the optimal capacities for the months before 2022, assuming an optimal peak of 10 kW for those months when modelling the charging patterns of the first three months of 2022. In the paper, we did determine optimal capacity for the months prior 2022. \n",
    "\n",
    "**Note that since we are considering a rolling optimization model, the modelling time is considerably longer**\n"
   ]
  },
  {
   "cell_type": "code",
   "execution_count": 7,
   "id": "5eecb90a",
   "metadata": {},
   "outputs": [
    {
     "name": "stdout",
     "output_type": "stream",
     "text": [
      "Capacity tariff profiles modelled for Charging station 1 for tariff value of 25 €/kW for month 1 and for dynamic retail prices\n",
      "Capacity tariff profiles modelled for Charging station 1 for tariff value of 25 €/kW for month 2 and for dynamic retail prices\n",
      "Capacity tariff profiles modelled for Charging station 1 for tariff value of 25 €/kW for month 3 and for dynamic retail prices\n",
      "Capacity tariff profiles modelled for Charging station 1 for tariff value of 25 €/kW for month 4 and for dynamic retail prices\n",
      "Capacity tariff profiles modelled for Charging station 1 for tariff value of 25 €/kW for month 5 and for dynamic retail prices\n",
      "Capacity tariff profiles modelled for Charging station 1 for tariff value of 25 €/kW for month 6 and for dynamic retail prices\n",
      "Capacity tariff profiles modelled for Charging station 1 for tariff value of 25 €/kW for month 7 and for dynamic retail prices\n",
      "Capacity tariff profiles modelled for Charging station 1 for tariff value of 25 €/kW for month 8 and for dynamic retail prices\n",
      "Capacity tariff profiles modelled for Charging station 1 for tariff value of 25 €/kW for month 9 and for dynamic retail prices\n",
      "Capacity tariff profiles modelled for Charging station 1 for tariff value of 25 €/kW for month 10 and for dynamic retail prices\n",
      "Capacity tariff profiles modelled for Charging station 1 for tariff value of 25 €/kW for month 11 and for dynamic retail prices\n",
      "Capacity tariff profiles modelled for Charging station 1 for tariff value of 25 €/kW for month 12 and for dynamic retail prices\n",
      "Capacity tariff profiles modelled for Charging station 2 for tariff value of 25 €/kW for month 1 and for dynamic retail prices\n",
      "Capacity tariff profiles modelled for Charging station 2 for tariff value of 25 €/kW for month 2 and for dynamic retail prices\n",
      "Capacity tariff profiles modelled for Charging station 2 for tariff value of 25 €/kW for month 3 and for dynamic retail prices\n",
      "Capacity tariff profiles modelled for Charging station 2 for tariff value of 25 €/kW for month 4 and for dynamic retail prices\n",
      "Capacity tariff profiles modelled for Charging station 2 for tariff value of 25 €/kW for month 5 and for dynamic retail prices\n",
      "Capacity tariff profiles modelled for Charging station 2 for tariff value of 25 €/kW for month 6 and for dynamic retail prices\n",
      "Capacity tariff profiles modelled for Charging station 2 for tariff value of 25 €/kW for month 7 and for dynamic retail prices\n",
      "Capacity tariff profiles modelled for Charging station 2 for tariff value of 25 €/kW for month 8 and for dynamic retail prices\n",
      "Capacity tariff profiles modelled for Charging station 2 for tariff value of 25 €/kW for month 9 and for dynamic retail prices\n",
      "Capacity tariff profiles modelled for Charging station 2 for tariff value of 25 €/kW for month 10 and for dynamic retail prices\n",
      "Capacity tariff profiles modelled for Charging station 2 for tariff value of 25 €/kW for month 11 and for dynamic retail prices\n",
      "Capacity tariff profiles modelled for Charging station 2 for tariff value of 25 €/kW for month 12 and for dynamic retail prices\n",
      "Capacity tariff profiles modelled for Charging station 1 for tariff value of 25 €/kW for month 1 and for fixed retail prices\n",
      "Capacity tariff profiles modelled for Charging station 1 for tariff value of 25 €/kW for month 2 and for fixed retail prices\n",
      "Capacity tariff profiles modelled for Charging station 1 for tariff value of 25 €/kW for month 3 and for fixed retail prices\n",
      "Capacity tariff profiles modelled for Charging station 1 for tariff value of 25 €/kW for month 4 and for fixed retail prices\n",
      "Capacity tariff profiles modelled for Charging station 1 for tariff value of 25 €/kW for month 5 and for fixed retail prices\n",
      "Capacity tariff profiles modelled for Charging station 1 for tariff value of 25 €/kW for month 6 and for fixed retail prices\n",
      "Capacity tariff profiles modelled for Charging station 1 for tariff value of 25 €/kW for month 7 and for fixed retail prices\n",
      "Capacity tariff profiles modelled for Charging station 1 for tariff value of 25 €/kW for month 8 and for fixed retail prices\n",
      "Capacity tariff profiles modelled for Charging station 1 for tariff value of 25 €/kW for month 9 and for fixed retail prices\n",
      "Capacity tariff profiles modelled for Charging station 1 for tariff value of 25 €/kW for month 10 and for fixed retail prices\n",
      "Capacity tariff profiles modelled for Charging station 1 for tariff value of 25 €/kW for month 11 and for fixed retail prices\n",
      "Capacity tariff profiles modelled for Charging station 1 for tariff value of 25 €/kW for month 12 and for fixed retail prices\n",
      "Capacity tariff profiles modelled for Charging station 2 for tariff value of 25 €/kW for month 1 and for fixed retail prices\n",
      "Capacity tariff profiles modelled for Charging station 2 for tariff value of 25 €/kW for month 2 and for fixed retail prices\n",
      "Capacity tariff profiles modelled for Charging station 2 for tariff value of 25 €/kW for month 3 and for fixed retail prices\n",
      "Capacity tariff profiles modelled for Charging station 2 for tariff value of 25 €/kW for month 4 and for fixed retail prices\n",
      "Capacity tariff profiles modelled for Charging station 2 for tariff value of 25 €/kW for month 5 and for fixed retail prices\n",
      "Capacity tariff profiles modelled for Charging station 2 for tariff value of 25 €/kW for month 6 and for fixed retail prices\n",
      "Capacity tariff profiles modelled for Charging station 2 for tariff value of 25 €/kW for month 7 and for fixed retail prices\n",
      "Capacity tariff profiles modelled for Charging station 2 for tariff value of 25 €/kW for month 8 and for fixed retail prices\n",
      "Capacity tariff profiles modelled for Charging station 2 for tariff value of 25 €/kW for month 9 and for fixed retail prices\n",
      "Capacity tariff profiles modelled for Charging station 2 for tariff value of 25 €/kW for month 10 and for fixed retail prices\n",
      "Capacity tariff profiles modelled for Charging station 2 for tariff value of 25 €/kW for month 11 and for fixed retail prices\n",
      "Capacity tariff profiles modelled for Charging station 2 for tariff value of 25 €/kW for month 12 and for fixed retail prices\n",
      "Capacity tariff profiles modelled for Charging station 1 for tariff value of 50 €/kW for month 1 and for dynamic retail prices\n",
      "Capacity tariff profiles modelled for Charging station 1 for tariff value of 50 €/kW for month 2 and for dynamic retail prices\n",
      "Capacity tariff profiles modelled for Charging station 1 for tariff value of 50 €/kW for month 3 and for dynamic retail prices\n",
      "Capacity tariff profiles modelled for Charging station 1 for tariff value of 50 €/kW for month 4 and for dynamic retail prices\n",
      "Capacity tariff profiles modelled for Charging station 1 for tariff value of 50 €/kW for month 5 and for dynamic retail prices\n",
      "Capacity tariff profiles modelled for Charging station 1 for tariff value of 50 €/kW for month 6 and for dynamic retail prices\n",
      "Capacity tariff profiles modelled for Charging station 1 for tariff value of 50 €/kW for month 7 and for dynamic retail prices\n",
      "Capacity tariff profiles modelled for Charging station 1 for tariff value of 50 €/kW for month 8 and for dynamic retail prices\n",
      "Capacity tariff profiles modelled for Charging station 1 for tariff value of 50 €/kW for month 9 and for dynamic retail prices\n",
      "Capacity tariff profiles modelled for Charging station 1 for tariff value of 50 €/kW for month 10 and for dynamic retail prices\n",
      "Capacity tariff profiles modelled for Charging station 1 for tariff value of 50 €/kW for month 11 and for dynamic retail prices\n",
      "Capacity tariff profiles modelled for Charging station 1 for tariff value of 50 €/kW for month 12 and for dynamic retail prices\n",
      "Capacity tariff profiles modelled for Charging station 2 for tariff value of 50 €/kW for month 1 and for dynamic retail prices\n",
      "Capacity tariff profiles modelled for Charging station 2 for tariff value of 50 €/kW for month 2 and for dynamic retail prices\n",
      "Capacity tariff profiles modelled for Charging station 2 for tariff value of 50 €/kW for month 3 and for dynamic retail prices\n",
      "Capacity tariff profiles modelled for Charging station 2 for tariff value of 50 €/kW for month 4 and for dynamic retail prices\n",
      "Capacity tariff profiles modelled for Charging station 2 for tariff value of 50 €/kW for month 5 and for dynamic retail prices\n",
      "Capacity tariff profiles modelled for Charging station 2 for tariff value of 50 €/kW for month 6 and for dynamic retail prices\n",
      "Capacity tariff profiles modelled for Charging station 2 for tariff value of 50 €/kW for month 7 and for dynamic retail prices\n",
      "Capacity tariff profiles modelled for Charging station 2 for tariff value of 50 €/kW for month 8 and for dynamic retail prices\n",
      "Capacity tariff profiles modelled for Charging station 2 for tariff value of 50 €/kW for month 9 and for dynamic retail prices\n",
      "Capacity tariff profiles modelled for Charging station 2 for tariff value of 50 €/kW for month 10 and for dynamic retail prices\n",
      "Capacity tariff profiles modelled for Charging station 2 for tariff value of 50 €/kW for month 11 and for dynamic retail prices\n",
      "Capacity tariff profiles modelled for Charging station 2 for tariff value of 50 €/kW for month 12 and for dynamic retail prices\n",
      "Capacity tariff profiles modelled for Charging station 1 for tariff value of 50 €/kW for month 1 and for fixed retail prices\n",
      "Capacity tariff profiles modelled for Charging station 1 for tariff value of 50 €/kW for month 2 and for fixed retail prices\n",
      "Capacity tariff profiles modelled for Charging station 1 for tariff value of 50 €/kW for month 3 and for fixed retail prices\n",
      "Capacity tariff profiles modelled for Charging station 1 for tariff value of 50 €/kW for month 4 and for fixed retail prices\n",
      "Capacity tariff profiles modelled for Charging station 1 for tariff value of 50 €/kW for month 5 and for fixed retail prices\n",
      "Capacity tariff profiles modelled for Charging station 1 for tariff value of 50 €/kW for month 6 and for fixed retail prices\n",
      "Capacity tariff profiles modelled for Charging station 1 for tariff value of 50 €/kW for month 7 and for fixed retail prices\n",
      "Capacity tariff profiles modelled for Charging station 1 for tariff value of 50 €/kW for month 8 and for fixed retail prices\n",
      "Capacity tariff profiles modelled for Charging station 1 for tariff value of 50 €/kW for month 9 and for fixed retail prices\n",
      "Capacity tariff profiles modelled for Charging station 1 for tariff value of 50 €/kW for month 10 and for fixed retail prices\n",
      "Capacity tariff profiles modelled for Charging station 1 for tariff value of 50 €/kW for month 11 and for fixed retail prices\n",
      "Capacity tariff profiles modelled for Charging station 1 for tariff value of 50 €/kW for month 12 and for fixed retail prices\n",
      "Capacity tariff profiles modelled for Charging station 2 for tariff value of 50 €/kW for month 1 and for fixed retail prices\n",
      "Capacity tariff profiles modelled for Charging station 2 for tariff value of 50 €/kW for month 2 and for fixed retail prices\n",
      "Capacity tariff profiles modelled for Charging station 2 for tariff value of 50 €/kW for month 3 and for fixed retail prices\n",
      "Capacity tariff profiles modelled for Charging station 2 for tariff value of 50 €/kW for month 4 and for fixed retail prices\n",
      "Capacity tariff profiles modelled for Charging station 2 for tariff value of 50 €/kW for month 5 and for fixed retail prices\n",
      "Capacity tariff profiles modelled for Charging station 2 for tariff value of 50 €/kW for month 6 and for fixed retail prices\n",
      "Capacity tariff profiles modelled for Charging station 2 for tariff value of 50 €/kW for month 7 and for fixed retail prices\n",
      "Capacity tariff profiles modelled for Charging station 2 for tariff value of 50 €/kW for month 8 and for fixed retail prices\n",
      "Capacity tariff profiles modelled for Charging station 2 for tariff value of 50 €/kW for month 9 and for fixed retail prices\n",
      "Capacity tariff profiles modelled for Charging station 2 for tariff value of 50 €/kW for month 10 and for fixed retail prices\n",
      "Capacity tariff profiles modelled for Charging station 2 for tariff value of 50 €/kW for month 11 and for fixed retail prices\n",
      "Capacity tariff profiles modelled for Charging station 2 for tariff value of 50 €/kW for month 12 and for fixed retail prices\n",
      "Capacity tariff profiles modelled for Charging station 1 for tariff value of 75 €/kW for month 1 and for dynamic retail prices\n",
      "Capacity tariff profiles modelled for Charging station 1 for tariff value of 75 €/kW for month 2 and for dynamic retail prices\n",
      "Capacity tariff profiles modelled for Charging station 1 for tariff value of 75 €/kW for month 3 and for dynamic retail prices\n",
      "Capacity tariff profiles modelled for Charging station 1 for tariff value of 75 €/kW for month 4 and for dynamic retail prices\n",
      "Capacity tariff profiles modelled for Charging station 1 for tariff value of 75 €/kW for month 5 and for dynamic retail prices\n",
      "Capacity tariff profiles modelled for Charging station 1 for tariff value of 75 €/kW for month 6 and for dynamic retail prices\n",
      "Capacity tariff profiles modelled for Charging station 1 for tariff value of 75 €/kW for month 7 and for dynamic retail prices\n",
      "Capacity tariff profiles modelled for Charging station 1 for tariff value of 75 €/kW for month 8 and for dynamic retail prices\n",
      "Capacity tariff profiles modelled for Charging station 1 for tariff value of 75 €/kW for month 9 and for dynamic retail prices\n",
      "Capacity tariff profiles modelled for Charging station 1 for tariff value of 75 €/kW for month 10 and for dynamic retail prices\n",
      "Capacity tariff profiles modelled for Charging station 1 for tariff value of 75 €/kW for month 11 and for dynamic retail prices\n",
      "Capacity tariff profiles modelled for Charging station 1 for tariff value of 75 €/kW for month 12 and for dynamic retail prices\n",
      "Capacity tariff profiles modelled for Charging station 2 for tariff value of 75 €/kW for month 1 and for dynamic retail prices\n",
      "Capacity tariff profiles modelled for Charging station 2 for tariff value of 75 €/kW for month 2 and for dynamic retail prices\n",
      "Capacity tariff profiles modelled for Charging station 2 for tariff value of 75 €/kW for month 3 and for dynamic retail prices\n",
      "Capacity tariff profiles modelled for Charging station 2 for tariff value of 75 €/kW for month 4 and for dynamic retail prices\n",
      "Capacity tariff profiles modelled for Charging station 2 for tariff value of 75 €/kW for month 5 and for dynamic retail prices\n",
      "Capacity tariff profiles modelled for Charging station 2 for tariff value of 75 €/kW for month 6 and for dynamic retail prices\n",
      "Capacity tariff profiles modelled for Charging station 2 for tariff value of 75 €/kW for month 7 and for dynamic retail prices\n",
      "Capacity tariff profiles modelled for Charging station 2 for tariff value of 75 €/kW for month 8 and for dynamic retail prices\n",
      "Capacity tariff profiles modelled for Charging station 2 for tariff value of 75 €/kW for month 9 and for dynamic retail prices\n",
      "Capacity tariff profiles modelled for Charging station 2 for tariff value of 75 €/kW for month 10 and for dynamic retail prices\n",
      "Capacity tariff profiles modelled for Charging station 2 for tariff value of 75 €/kW for month 11 and for dynamic retail prices\n",
      "Capacity tariff profiles modelled for Charging station 2 for tariff value of 75 €/kW for month 12 and for dynamic retail prices\n",
      "Capacity tariff profiles modelled for Charging station 1 for tariff value of 75 €/kW for month 1 and for fixed retail prices\n",
      "Capacity tariff profiles modelled for Charging station 1 for tariff value of 75 €/kW for month 2 and for fixed retail prices\n",
      "Capacity tariff profiles modelled for Charging station 1 for tariff value of 75 €/kW for month 3 and for fixed retail prices\n",
      "Capacity tariff profiles modelled for Charging station 1 for tariff value of 75 €/kW for month 4 and for fixed retail prices\n",
      "Capacity tariff profiles modelled for Charging station 1 for tariff value of 75 €/kW for month 5 and for fixed retail prices\n",
      "Capacity tariff profiles modelled for Charging station 1 for tariff value of 75 €/kW for month 6 and for fixed retail prices\n",
      "Capacity tariff profiles modelled for Charging station 1 for tariff value of 75 €/kW for month 7 and for fixed retail prices\n",
      "Capacity tariff profiles modelled for Charging station 1 for tariff value of 75 €/kW for month 8 and for fixed retail prices\n",
      "Capacity tariff profiles modelled for Charging station 1 for tariff value of 75 €/kW for month 9 and for fixed retail prices\n",
      "Capacity tariff profiles modelled for Charging station 1 for tariff value of 75 €/kW for month 10 and for fixed retail prices\n",
      "Capacity tariff profiles modelled for Charging station 1 for tariff value of 75 €/kW for month 11 and for fixed retail prices\n",
      "Capacity tariff profiles modelled for Charging station 1 for tariff value of 75 €/kW for month 12 and for fixed retail prices\n",
      "Capacity tariff profiles modelled for Charging station 2 for tariff value of 75 €/kW for month 1 and for fixed retail prices\n",
      "Capacity tariff profiles modelled for Charging station 2 for tariff value of 75 €/kW for month 2 and for fixed retail prices\n",
      "Capacity tariff profiles modelled for Charging station 2 for tariff value of 75 €/kW for month 3 and for fixed retail prices\n",
      "Capacity tariff profiles modelled for Charging station 2 for tariff value of 75 €/kW for month 4 and for fixed retail prices\n",
      "Capacity tariff profiles modelled for Charging station 2 for tariff value of 75 €/kW for month 5 and for fixed retail prices\n",
      "Capacity tariff profiles modelled for Charging station 2 for tariff value of 75 €/kW for month 6 and for fixed retail prices\n",
      "Capacity tariff profiles modelled for Charging station 2 for tariff value of 75 €/kW for month 7 and for fixed retail prices\n",
      "Capacity tariff profiles modelled for Charging station 2 for tariff value of 75 €/kW for month 8 and for fixed retail prices\n",
      "Capacity tariff profiles modelled for Charging station 2 for tariff value of 75 €/kW for month 9 and for fixed retail prices\n",
      "Capacity tariff profiles modelled for Charging station 2 for tariff value of 75 €/kW for month 10 and for fixed retail prices\n",
      "Capacity tariff profiles modelled for Charging station 2 for tariff value of 75 €/kW for month 11 and for fixed retail prices\n",
      "Capacity tariff profiles modelled for Charging station 2 for tariff value of 75 €/kW for month 12 and for fixed retail prices\n"
     ]
    }
   ],
   "source": [
    "from helperfunctions.capacity_model import capacity_tariffs\n",
    "charging_profile_dict['Capacity_tariffs_dynamic']={}\n",
    "charging_profile_dict['Capacity_tariffs_fixed']={}\n",
    "\n",
    "capacity_prep_dict=pd.read_pickle('results/optimal_capacities_capacity_tariff.pkl')\n",
    "for tariff_value in capacity_tariffvalues:\n",
    "    for dynamic_retail_prices_considered in [True,False]:\n",
    "        capacity_total=pd.DataFrame(0,index=timesteplist,columns=charging_session_data['Charging station ID'].unique())\n",
    "        for CS in charging_session_data['Charging station ID'].unique():\n",
    "            charging_session_data_CS=charging_session_data[charging_session_data['Charging station ID']==CS]\n",
    "            for month in range(1,13):\n",
    "                initial_peak=0\n",
    "                for prev_month in [month-1,month-2,month-3]:\n",
    "                    if dynamic_retail_prices_considered==True:\n",
    "                        try:\n",
    "                            initial_peak+=capacity_prep_dict[CS+'_'+str(tariff_value)+'_dynamic'][prev_month]/3\n",
    "                        except:\n",
    "                            initial_peak+=10/3\n",
    "                    else:\n",
    "                        try:\n",
    "                            initial_peak+=capacity_prep_dict[CS+'_'+str(tariff_value)+'_fixed'][prev_month]/3\n",
    "                        except:\n",
    "                            initial_peak+=10/3\n",
    "                try:\n",
    "                    timesteplist_month=pd.date_range(start=datetime.datetime(2022,month,1,tzinfo=pytz.timezone('CET')),end=datetime.datetime(2022,month+1,1,tzinfo=pytz.timezone('CET'))+datetime.timedelta(days=2),freq='15Min',tz='CET')\n",
    "                except:\n",
    "                    timesteplist_month=pd.date_range(start=datetime.datetime(2022,month,1,tzinfo=pytz.timezone('CET')),end=datetime.datetime(2023,1,1,tzinfo=pytz.timezone('CET'))+datetime.timedelta(days=2),freq='15Min',tz='CET')\n",
    "                charging_session_data_CS_month=charging_session_data_CS[charging_session_data_CS['Arrival time'].dt.month==month]\n",
    "                results_CS_month=capacity_tariffs(charging_session_data_CS_month, timesteplist_month, CS, day_ahead_prices, dynamic_retail_prices_considered, tariff_value,initial_peak)\n",
    "                for t in timesteplist_month:\n",
    "                    capacity_total.at[t,CS]+=results_CS_month.loc[t,CS]\n",
    "\n",
    "                if dynamic_retail_prices_considered==True:\n",
    "                    print('Capacity tariff profiles modelled for '+CS+' for tariff value of '+str(tariff_value)+' €/kW for month '+str(month)+' and for dynamic retail prices')\n",
    "                else:\n",
    "                    print('Capacity tariff profiles modelled for '+CS+' for tariff value of '+str(tariff_value)+' €/kW for month '+str(month)+' and for fixed retail prices')\n",
    "        if dynamic_retail_prices_considered==True:\n",
    "            charging_profile_dict['Capacity_tariffs_dynamic'][str(tariff_value)]=capacity_total\n",
    "        else:\n",
    "            charging_profile_dict['Capacity_tariffs_fixed'][str(tariff_value)]=capacity_total\n",
    "            \n"
   ]
  },
  {
   "cell_type": "markdown",
   "id": "51844a1d",
   "metadata": {},
   "source": [
    "## Capacity-subscription tariffs\n",
    "For this tariff structure, we follow a three-step approach. In the first step, we determine the optimal charging profiles for different subscribed capacities for each considered charging stations, thereby considering a fixed exceedance fee of 0.3 €/kWh. Note that in the analysis we performed for this paper, more subscribed capacity values were considered. "
   ]
  },
  {
   "cell_type": "code",
   "execution_count": 8,
   "id": "dfce0ef1",
   "metadata": {},
   "outputs": [
    {
     "name": "stdout",
     "output_type": "stream",
     "text": [
      "Capacity-subscription profiles modelled for Charging station 1 for subscribed capacity of 4 kW for dynamic retail prices\n",
      "Capacity-subscription profiles modelled for Charging station 1 for subscribed capacity of 8 kW for dynamic retail prices\n",
      "Capacity-subscription profiles modelled for Charging station 1 for subscribed capacity of 12 kW for dynamic retail prices\n",
      "Capacity-subscription profiles modelled for Charging station 1 for subscribed capacity of 16 kW for dynamic retail prices\n",
      "Capacity-subscription profiles modelled for Charging station 2 for subscribed capacity of 4 kW for dynamic retail prices\n",
      "Capacity-subscription profiles modelled for Charging station 2 for subscribed capacity of 8 kW for dynamic retail prices\n",
      "Capacity-subscription profiles modelled for Charging station 2 for subscribed capacity of 12 kW for dynamic retail prices\n",
      "Capacity-subscription profiles modelled for Charging station 2 for subscribed capacity of 16 kW for dynamic retail prices\n",
      "Capacity-subscription profiles modelled for Charging station 1 for subscribed capacity of 4 kW for fixed retail prices\n",
      "Capacity-subscription profiles modelled for Charging station 1 for subscribed capacity of 8 kW for fixed retail prices\n",
      "Capacity-subscription profiles modelled for Charging station 1 for subscribed capacity of 12 kW for fixed retail prices\n",
      "Capacity-subscription profiles modelled for Charging station 1 for subscribed capacity of 16 kW for fixed retail prices\n",
      "Capacity-subscription profiles modelled for Charging station 2 for subscribed capacity of 4 kW for fixed retail prices\n",
      "Capacity-subscription profiles modelled for Charging station 2 for subscribed capacity of 8 kW for fixed retail prices\n",
      "Capacity-subscription profiles modelled for Charging station 2 for subscribed capacity of 12 kW for fixed retail prices\n",
      "Capacity-subscription profiles modelled for Charging station 2 for subscribed capacity of 16 kW for fixed retail prices\n"
     ]
    }
   ],
   "source": [
    "from helperfunctions.capacity_subscription_model import capacity_subscription\n",
    "exceedance_fee=0.3\n",
    "capacity_subscription_dict={}\n",
    "for dynamic_retail_prices_considered in [True,False]:\n",
    "    if dynamic_retail_prices_considered==True:\n",
    "        capacity_subscription_dict['dynamic']={}\n",
    "    else:\n",
    "        capacity_subscription_dict['fixed']={}\n",
    "    capacity_subscription_total=pd.DataFrame(0,index=timesteplist,columns=charging_session_data['Charging station ID'].unique())\n",
    "    subscribed_capacity_list=[4,8,12,16]\n",
    "    for CS in charging_session_data['Charging station ID'].unique():\n",
    "        capacity_subscription_CS=pd.DataFrame(0,index=timesteplist,columns=subscribed_capacity_list)\n",
    "        for subscribed_capacity in subscribed_capacity_list:\n",
    "            resultdf_CS_subscribed_capacity=capacity_subscription(charging_session_data, timesteplist, CS, day_ahead_prices, dynamic_retail_prices_considered, exceedance_fee, subscribed_capacity)\n",
    "            capacity_subscription_CS[subscribed_capacity]=resultdf_CS_subscribed_capacity[CS].copy()\n",
    "            if dynamic_retail_prices_considered==True:\n",
    "                print('Capacity-subscription profiles modelled for '+CS+' for subscribed capacity of '+str(subscribed_capacity)+' kW for dynamic retail prices')\n",
    "            else:\n",
    "                print('Capacity-subscription profiles modelled for '+CS+' for subscribed capacity of '+str(subscribed_capacity)+' kW for fixed retail prices')\n",
    "        if dynamic_retail_prices_considered==True:\n",
    "            capacity_subscription_dict['dynamic'][CS]=capacity_subscription_CS\n",
    "        else:\n",
    "            capacity_subscription_dict['fixed'][CS]=capacity_subscription_CS    \n",
    "            "
   ]
  },
  {
   "cell_type": "code",
   "execution_count": null,
   "id": "9ae8d9ec",
   "metadata": {},
   "outputs": [],
   "source": []
  },
  {
   "cell_type": "code",
   "execution_count": null,
   "metadata": {},
   "outputs": [],
   "source": []
  },
  {
   "cell_type": "markdown",
   "id": "d91fbc87",
   "metadata": {},
   "source": [
    "In the second step, we considered different capacity-subscription tariff levels (€/kW/year) to find the optimal subscribed capacity for each month for each charging station for each tariff level. We first create a dictionary _capacity subscription cost dict_ in which we determine for each tariff level and subscribed capacity the total costs per charging station (grid tariff costs + retail electricity costs)."
   ]
  },
  {
   "cell_type": "code",
   "execution_count": 9,
   "id": "de9a096b",
   "metadata": {},
   "outputs": [],
   "source": [
    "capacity_subscription_cost_dict={}\n",
    "capacity_subscription_tariffvalues=[25,50,75]\n",
    "for dynamic_retail_prices_considered in [True,False]:\n",
    "    if dynamic_retail_prices_considered==True:\n",
    "        capacity_subscription_cost_dict['dynamic']={}\n",
    "    else:\n",
    "        capacity_subscription_cost_dict['fixed']={}\n",
    "    for CS in charging_session_data['Charging station ID'].unique():\n",
    "        if dynamic_retail_prices_considered==True:\n",
    "            capacity_subscription_cost_dict['dynamic'][CS]={}\n",
    "        else:\n",
    "            capacity_subscription_cost_dict['fixed'][CS]={}\n",
    "        for tariff_value in capacity_subscription_tariffvalues:\n",
    "            if dynamic_retail_prices_considered==True:\n",
    "                capacity_subscription_cost_dict['dynamic'][CS][tariff_value]=pd.DataFrame(0,index=range(1,13),columns=subscribed_capacity_list)\n",
    "            else:\n",
    "                capacity_subscription_cost_dict['fixed'][CS][tariff_value]=pd.DataFrame(0,index=range(1,13),columns=subscribed_capacity_list)\n",
    "            for subscribed_capacity in subscribed_capacity_list:\n",
    "                if dynamic_retail_prices_considered==True:\n",
    "                    charging_profile_CS=pd.DataFrame(capacity_subscription_dict['dynamic'][CS][subscribed_capacity])\n",
    "                else:\n",
    "                    charging_profile_CS=pd.DataFrame(capacity_subscription_dict['fixed'][CS][subscribed_capacity])\n",
    "                for month in range(1,13):\n",
    "                    start_date=datetime.datetime(2022,month,1,tzinfo=pytz.timezone('CET'))\n",
    "                    try:\n",
    "                        end_date=datetime.datetime(2022,month+1,1,tzinfo=pytz.timezone('CET'))\n",
    "                    except:\n",
    "                        end_date=datetime.datetime(2023,1,1,tzinfo=pytz.timezone('CET'))\n",
    "                    charging_profile_CS_month=charging_profile_CS[(charging_profile_CS.index>=start_date) & (charging_profile_CS.index<end_date)]\n",
    "                    charging_profile_CS_month['exceedence']=np.where(charging_profile_CS_month[subscribed_capacity]>subscribed_capacity,charging_profile_CS_month[subscribed_capacity]-subscribed_capacity,0)\n",
    "                    exceedance_month=charging_profile_CS_month['exceedence'].sum()*0.25\n",
    "                    total_grid_costs_month=exceedance_month*exceedance_fee+subscribed_capacity*tariff_value/12\n",
    "                    if dynamic_retail_prices_considered==True:\n",
    "                        day_ahead_prices_month=day_ahead_prices[(day_ahead_prices.index>=start_date) & (day_ahead_prices.index<end_date)]\n",
    "                        charging_profile_CS_month['retail costs']=charging_profile_CS_month[subscribed_capacity]*day_ahead_prices_month['Day-ahead price (€/MWh)']/1000*0.25\n",
    "                        retail_price_month=charging_profile_CS_month['retail costs'].sum()\n",
    "                        capacity_subscription_cost_dict['dynamic'][CS][tariff_value].at[month,subscribed_capacity]=total_grid_costs_month+retail_price_month\n",
    "                    else:\n",
    "                        capacity_subscription_cost_dict['fixed'][CS][tariff_value].at[month,subscribed_capacity]=total_grid_costs_month"
   ]
  },
  {
   "cell_type": "markdown",
   "id": "e93bb60a",
   "metadata": {},
   "source": [
    "In our model, we base the chosen subscribed capacity level at the beginning of each month on the capacity levels that would have yielded lowest costs in the previous three months. Given this, we determine the charging profiles for a specific tariff value by choosing the subscribed capacity value for each month, and then taking the charging profiles corresponding to this subscribed capacity. Note that in this sample analysis, we did not determine the profiles for the months before 2022, assuming an optimal subscribed capacity of 12 kW for the first three months of 2022. In the paper, we did determine optimal capacity for the months prior 2022. "
   ]
  },
  {
   "cell_type": "code",
   "execution_count": 10,
   "id": "43d5615f",
   "metadata": {},
   "outputs": [],
   "source": [
    "charging_profile_dict['Capacity_subscription_dynamic']={}\n",
    "charging_profile_dict['Capacity_subscription_fixed']={}\n",
    "for tariff_value in capacity_subscription_tariffvalues:\n",
    "    for dynamic_retail_prices_considered in [True,False]:\n",
    "        if dynamic_retail_prices_considered==True:\n",
    "            charging_profile_dict['Capacity_subscription_dynamic'][str(tariff_value)]=pd.DataFrame(0,index=timesteplist,columns=charging_session_data['Charging station ID'].unique())\n",
    "        else:\n",
    "            charging_profile_dict['Capacity_subscription_fixed'][str(tariff_value)]=pd.DataFrame(0,index=timesteplist,columns=charging_session_data['Charging station ID'].unique())\n",
    "        for CS in charging_session_data['Charging station ID'].unique():\n",
    "            for month in range(1,13):\n",
    "                try:\n",
    "                    timesteplist_month=pd.date_range(start=datetime.datetime(2022,month,1,tzinfo=pytz.timezone('CET')),end=datetime.datetime(2022,month+1,1,tzinfo=pytz.timezone('CET')))\n",
    "                except:\n",
    "                    timesteplist_month=pd.date_range(start=datetime.datetime(2022,month,1,tzinfo=pytz.timezone('CET')),end=datetime.datetime(2023,1,1,tzinfo=pytz.timezone('CET')))\n",
    "                if month <=3:\n",
    "                    optimal_subscribed_capacity=12 #only for this sample analysis, see explanation above\n",
    "                else:\n",
    "                    if dynamic_retail_prices_considered==True:\n",
    "                        cost_values=capacity_subscription_cost_dict['dynamic'][CS][tariff_value]\n",
    "                    else:\n",
    "                        cost_values=capacity_subscription_cost_dict['fixed'][CS][tariff_value]\n",
    "                    cost_values=cost_values.loc[[month-1,month-2,month-3],:]\n",
    "                    optimal_subscribed_capacity= cost_values.sum().idxmin()\n",
    "                for t in timesteplist_month:\n",
    "                    if dynamic_retail_prices_considered==True:\n",
    "                        charging_profile_dict['Capacity_subscription_dynamic'][str(tariff_value)].at[t,CS]+=capacity_subscription_dict['dynamic'][CS].loc[t,optimal_subscribed_capacity]\n",
    "                    else:\n",
    "                        charging_profile_dict['Capacity_subscription_fixed'][str(tariff_value)].at[t,CS]+=capacity_subscription_dict['fixed'][CS].loc[t,optimal_subscribed_capacity]\n",
    "\n",
    "pd.to_pickle(charging_profile_dict,'results/charging_profiles.pkl')"
   ]
  }
 ],
 "metadata": {
  "kernelspec": {
   "display_name": "base",
   "language": "python",
   "name": "python3"
  },
  "language_info": {
   "codemirror_mode": {
    "name": "ipython",
    "version": 3
   },
   "file_extension": ".py",
   "mimetype": "text/x-python",
   "name": "python",
   "nbconvert_exporter": "python",
   "pygments_lexer": "ipython3",
   "version": "3.12.7"
  }
 },
 "nbformat": 4,
 "nbformat_minor": 5
}
